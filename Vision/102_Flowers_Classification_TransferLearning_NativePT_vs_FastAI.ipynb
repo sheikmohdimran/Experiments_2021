{
  "nbformat": 4,
  "nbformat_minor": 0,
  "metadata": {
    "colab": {
      "name": "102-Flowers-Classification-TransferLearning-NativePT-vs-FastAI",
      "provenance": [],
      "authorship_tag": "ABX9TyOFwL5AQfkh7GffXsvJScXg",
      "include_colab_link": true
    },
    "kernelspec": {
      "display_name": "Python 3",
      "name": "python3"
    },
    "language_info": {
      "name": "python"
    },
    "accelerator": "GPU"
  },
  "cells": [
    {
      "cell_type": "markdown",
      "metadata": {
        "id": "view-in-github",
        "colab_type": "text"
      },
      "source": [
        "<a href=\"https://colab.research.google.com/github/sheikmohdimran/Experiments_2021/blob/main/Vision/102_Flowers_Classification_TransferLearning_NativePT_vs_FastAI.ipynb\" target=\"_parent\"><img src=\"https://colab.research.google.com/assets/colab-badge.svg\" alt=\"Open In Colab\"/></a>"
      ]
    },
    {
      "cell_type": "code",
      "metadata": {
        "id": "ptzVsIAtx1sz"
      },
      "source": [
        "!wget -q https://www.robots.ox.ac.uk/~vgg/data/flowers/102/102flowers.tgz\n",
        "!wget -q https://www.robots.ox.ac.uk/~vgg/data/flowers/102/imagelabels.mat\n",
        "!wget -q https://www.robots.ox.ac.uk/~vgg/data/flowers/102/setid.mat\n",
        "!tar -xf 102flowers.tgz"
      ],
      "execution_count": 1,
      "outputs": []
    },
    {
      "cell_type": "code",
      "metadata": {
        "id": "y4J7ZvlQQT5p"
      },
      "source": [
        "import os\n",
        "import pandas as pd\n",
        "from torchvision.io import read_image\n",
        "from torch.utils.data import Dataset, DataLoader\n",
        "from torchvision import models, transforms\n",
        "import torch\n",
        "from torch import nn\n",
        "from collections import OrderedDict\n",
        "from tqdm import tqdm\n",
        "from scipy.io import loadmat\n",
        "from PIL import Image\n",
        "from torch import optim\n"
      ],
      "execution_count": 1,
      "outputs": []
    },
    {
      "cell_type": "code",
      "metadata": {
        "id": "U2GuoGj0x3Jy"
      },
      "source": [
        "split = loadmat('setid.mat')\n",
        "label = loadmat('imagelabels.mat')"
      ],
      "execution_count": 2,
      "outputs": []
    },
    {
      "cell_type": "code",
      "metadata": {
        "id": "fHSGa4CAEvPK"
      },
      "source": [
        "trnid_df=pd.DataFrame(split['trnid'][0], columns = ['id'])\n",
        "trnid_df=trnid_df.assign(split='train')\n",
        "tstid_df=pd.DataFrame(split['tstid'][0], columns = ['id'])\n",
        "tstid_df=tstid_df.assign(split='test')\n",
        "valid_df=pd.DataFrame(split['valid'][0], columns = ['id'])\n",
        "valid_df=valid_df.assign(split='valid')\n",
        "\n",
        "split_df=trnid_df.append(valid_df, ignore_index=True).append(tstid_df, ignore_index=True)"
      ],
      "execution_count": 3,
      "outputs": []
    },
    {
      "cell_type": "code",
      "metadata": {
        "id": "11uFftVcFqFG"
      },
      "source": [
        "df = pd.DataFrame(label['labels'][0], columns = ['label'])\n",
        "df['file'] = df.index\n",
        "df['file']=df['file'].apply(lambda x: x+1).apply(lambda x: '{0:0>5}'.format(x)).apply(lambda x:'jpg/image_'+str(x)+'.jpg')\n",
        "df['id'] = df.index\n",
        "df['id']=df['id'].apply(lambda x: x+1)"
      ],
      "execution_count": 4,
      "outputs": []
    },
    {
      "cell_type": "code",
      "metadata": {
        "colab": {
          "base_uri": "https://localhost:8080/",
          "height": 203
        },
        "id": "oEc7uiXZIOnv",
        "outputId": "4be005b6-b036-4adf-de62-f746959fff6c"
      },
      "source": [
        " df=pd.merge(df, split_df, on=\"id\")\n",
        " df=df.drop(columns=['id'])\n",
        " df.head()"
      ],
      "execution_count": 5,
      "outputs": [
        {
          "output_type": "execute_result",
          "data": {
            "text/html": [
              "<div>\n",
              "<style scoped>\n",
              "    .dataframe tbody tr th:only-of-type {\n",
              "        vertical-align: middle;\n",
              "    }\n",
              "\n",
              "    .dataframe tbody tr th {\n",
              "        vertical-align: top;\n",
              "    }\n",
              "\n",
              "    .dataframe thead th {\n",
              "        text-align: right;\n",
              "    }\n",
              "</style>\n",
              "<table border=\"1\" class=\"dataframe\">\n",
              "  <thead>\n",
              "    <tr style=\"text-align: right;\">\n",
              "      <th></th>\n",
              "      <th>label</th>\n",
              "      <th>file</th>\n",
              "      <th>split</th>\n",
              "    </tr>\n",
              "  </thead>\n",
              "  <tbody>\n",
              "    <tr>\n",
              "      <th>0</th>\n",
              "      <td>77</td>\n",
              "      <td>jpg/image_00001.jpg</td>\n",
              "      <td>test</td>\n",
              "    </tr>\n",
              "    <tr>\n",
              "      <th>1</th>\n",
              "      <td>77</td>\n",
              "      <td>jpg/image_00002.jpg</td>\n",
              "      <td>test</td>\n",
              "    </tr>\n",
              "    <tr>\n",
              "      <th>2</th>\n",
              "      <td>77</td>\n",
              "      <td>jpg/image_00003.jpg</td>\n",
              "      <td>test</td>\n",
              "    </tr>\n",
              "    <tr>\n",
              "      <th>3</th>\n",
              "      <td>77</td>\n",
              "      <td>jpg/image_00004.jpg</td>\n",
              "      <td>test</td>\n",
              "    </tr>\n",
              "    <tr>\n",
              "      <th>4</th>\n",
              "      <td>77</td>\n",
              "      <td>jpg/image_00005.jpg</td>\n",
              "      <td>test</td>\n",
              "    </tr>\n",
              "  </tbody>\n",
              "</table>\n",
              "</div>"
            ],
            "text/plain": [
              "   label                 file split\n",
              "0     77  jpg/image_00001.jpg  test\n",
              "1     77  jpg/image_00002.jpg  test\n",
              "2     77  jpg/image_00003.jpg  test\n",
              "3     77  jpg/image_00004.jpg  test\n",
              "4     77  jpg/image_00005.jpg  test"
            ]
          },
          "metadata": {
            "tags": []
          },
          "execution_count": 5
        }
      ]
    },
    {
      "cell_type": "code",
      "metadata": {
        "colab": {
          "base_uri": "https://localhost:8080/"
        },
        "id": "rhY8yTYJeeOl",
        "outputId": "e1bdf03a-db3d-4d75-9e70-1720c6e63788"
      },
      "source": [
        "df.dtypes"
      ],
      "execution_count": 6,
      "outputs": [
        {
          "output_type": "execute_result",
          "data": {
            "text/plain": [
              "label     uint8\n",
              "file     object\n",
              "split    object\n",
              "dtype: object"
            ]
          },
          "metadata": {
            "tags": []
          },
          "execution_count": 6
        }
      ]
    },
    {
      "cell_type": "code",
      "metadata": {
        "colab": {
          "base_uri": "https://localhost:8080/"
        },
        "id": "y0yjQp7jcODl",
        "outputId": "f7b3f1c8-7b32-448e-de57-f52e5f982e9e"
      },
      "source": [
        "import numpy as np\n",
        "np.unique(label['labels'][0])"
      ],
      "execution_count": 7,
      "outputs": [
        {
          "output_type": "execute_result",
          "data": {
            "text/plain": [
              "array([  1,   2,   3,   4,   5,   6,   7,   8,   9,  10,  11,  12,  13,\n",
              "        14,  15,  16,  17,  18,  19,  20,  21,  22,  23,  24,  25,  26,\n",
              "        27,  28,  29,  30,  31,  32,  33,  34,  35,  36,  37,  38,  39,\n",
              "        40,  41,  42,  43,  44,  45,  46,  47,  48,  49,  50,  51,  52,\n",
              "        53,  54,  55,  56,  57,  58,  59,  60,  61,  62,  63,  64,  65,\n",
              "        66,  67,  68,  69,  70,  71,  72,  73,  74,  75,  76,  77,  78,\n",
              "        79,  80,  81,  82,  83,  84,  85,  86,  87,  88,  89,  90,  91,\n",
              "        92,  93,  94,  95,  96,  97,  98,  99, 100, 101, 102], dtype=uint8)"
            ]
          },
          "metadata": {
            "tags": []
          },
          "execution_count": 7
        }
      ]
    },
    {
      "cell_type": "code",
      "metadata": {
        "id": "r1FaHfZDDwuv"
      },
      "source": [
        "#image=Image.open('jpg/image_06765.jpg')\n",
        "#image"
      ],
      "execution_count": 8,
      "outputs": []
    },
    {
      "cell_type": "code",
      "metadata": {
        "id": "Oo_zLuuyGiqM"
      },
      "source": [
        "class CustomImageDataset(Dataset):\n",
        "    def __init__(self, data_frame, split, transform=None):\n",
        "        self.img_labels = data_frame[data_frame.split==split]\n",
        "        self.transform = transform\n",
        "        self.target_transform = target_transform\n",
        "\n",
        "    def __len__(self):\n",
        "        return len(self.img_labels)\n",
        "\n",
        "    def __getitem__(self, idx):\n",
        "        image = read_image(self.img_labels.iloc[idx, 1])\n",
        "        label = self.img_labels.iloc[idx, 0].astype(np.long)-1\n",
        "        if self.transform:\n",
        "            image = self.transform(image)\n",
        "        return image, label"
      ],
      "execution_count": 9,
      "outputs": []
    },
    {
      "cell_type": "code",
      "metadata": {
        "id": "FG907JspE7Ci"
      },
      "source": [
        "train_transform=transforms.Compose([\n",
        "        transforms.ToPILImage(),\n",
        "        transforms.RandomResizedCrop(224),\n",
        "        transforms.RandomHorizontalFlip(),\n",
        "        transforms.ToTensor(),\n",
        "        transforms.Normalize([0.485, 0.456, 0.406], [0.229, 0.224, 0.225])\n",
        "    ])\n",
        "\n",
        "val_transform=transforms.Compose([\n",
        "        transforms.ToPILImage(),\n",
        "        transforms.Resize(256),\n",
        "        transforms.CenterCrop(224),\n",
        "        transforms.ToTensor(),\n",
        "        transforms.Normalize([0.485, 0.456, 0.406], [0.229, 0.224, 0.225])\n",
        "    ])"
      ],
      "execution_count": 10,
      "outputs": []
    },
    {
      "cell_type": "code",
      "metadata": {
        "id": "1rwXDEXy9OK5"
      },
      "source": [
        "train_data = CustomImageDataset(data_frame=df,split='train',transform=train_transform)\n",
        "valid_data = CustomImageDataset(data_frame=df,split='valid',transform=val_transform)"
      ],
      "execution_count": 11,
      "outputs": []
    },
    {
      "cell_type": "code",
      "metadata": {
        "id": "2xjiu4TJ92Jn"
      },
      "source": [
        "trainloader = DataLoader(train_data, batch_size=32, shuffle=True)\n",
        "validloader = DataLoader(valid_data, batch_size=256, shuffle=False)"
      ],
      "execution_count": 12,
      "outputs": []
    },
    {
      "cell_type": "code",
      "metadata": {
        "colab": {
          "base_uri": "https://localhost:8080/"
        },
        "id": "svg3AgeXe78d",
        "outputId": "25dd4025-ce71-4a86-e16c-8d6e6f705e44"
      },
      "source": [
        "next(iter(trainloader))[1]"
      ],
      "execution_count": 13,
      "outputs": [
        {
          "output_type": "execute_result",
          "data": {
            "text/plain": [
              "tensor([  1,  28,  64,  33,  73,  60,  50,  75,  85,  86,  31,  40, 101,  40,\n",
              "         58,  32,  95,  84,   9,  81,   7,  30,  77,  55,  30,  14,  66, 100,\n",
              "         30,  25,   3,  41])"
            ]
          },
          "metadata": {
            "tags": []
          },
          "execution_count": 13
        }
      ]
    },
    {
      "cell_type": "code",
      "metadata": {
        "id": "quHKYj2UIOgc"
      },
      "source": [
        "model=models.resnet18(pretrained=True)"
      ],
      "execution_count": 44,
      "outputs": []
    },
    {
      "cell_type": "code",
      "metadata": {
        "colab": {
          "base_uri": "https://localhost:8080/"
        },
        "id": "LEZvclN3Iyv4",
        "outputId": "29628f6b-d93a-4428-aeb9-4c9fb35d38d4"
      },
      "source": [
        "for name, module in model.named_children():\n",
        "    print(name)"
      ],
      "execution_count": 45,
      "outputs": [
        {
          "output_type": "stream",
          "text": [
            "conv1\n",
            "bn1\n",
            "relu\n",
            "maxpool\n",
            "layer1\n",
            "layer2\n",
            "layer3\n",
            "layer4\n",
            "avgpool\n",
            "fc\n"
          ],
          "name": "stdout"
        }
      ]
    },
    {
      "cell_type": "code",
      "metadata": {
        "id": "fwVyiVaeI4M5"
      },
      "source": [
        "for name, module in model.named_children():\n",
        "  if name in ['layer4']: #Unfreeze\n",
        "    for param in module.parameters():\n",
        "      param.requires_grad = True\n",
        "  else: #Freeze\n",
        "    for param in module.parameters():\n",
        "      param.requires_grad = False"
      ],
      "execution_count": 46,
      "outputs": []
    },
    {
      "cell_type": "code",
      "metadata": {
        "id": "S6PGIQwnLraX"
      },
      "source": [
        "model.fc = nn.Sequential(OrderedDict([\n",
        "          ('lin1', nn.Linear(512,256)),\n",
        "          ('relu1', nn.ReLU()),\n",
        "          ('lin2', nn.Linear(256,102))\n",
        "        ]))"
      ],
      "execution_count": 47,
      "outputs": []
    },
    {
      "cell_type": "code",
      "metadata": {
        "id": "YgAaAReWJrhz"
      },
      "source": [
        "#model"
      ],
      "execution_count": 48,
      "outputs": []
    },
    {
      "cell_type": "markdown",
      "metadata": {
        "id": "CeVozXN57qJ0"
      },
      "source": [
        "## Training Loop - Native Pytorch "
      ]
    },
    {
      "cell_type": "code",
      "metadata": {
        "id": "_GnkafqGkeFG"
      },
      "source": [
        "num_epochs=20\n",
        "\n",
        "device = torch.device(\"cuda:0\" if torch.cuda.is_available() else \"cpu\")\n",
        "\n",
        "optimizer = optim.SGD(model.parameters(),lr=1e-3,momentum=0.9)\n",
        "criterion = nn.CrossEntropyLoss()\n",
        "model = model.to(device)"
      ],
      "execution_count": 49,
      "outputs": []
    },
    {
      "cell_type": "code",
      "metadata": {
        "colab": {
          "base_uri": "https://localhost:8080/"
        },
        "id": "Hoo_lWw3NJo8",
        "outputId": "9686fa21-5723-43fa-8cc0-7fedd7f2b3d5"
      },
      "source": [
        "train_loss=[]\n",
        "validation_loss=[]\n",
        "accuracy=[]\n",
        "\n",
        "for epoch in range(num_epochs):\n",
        "  model.train()\n",
        "  running_loss = 0.0\n",
        "  val_corr = 0\n",
        "  for inputs, labels in tqdm(trainloader, position=0, leave=True):\n",
        "    inputs,labels=inputs.to(device),labels.to(device)\n",
        "    optimizer.zero_grad()\n",
        "    #with torch.set_grad_enabled(True):\n",
        "    outputs=model(inputs)\n",
        "    loss = criterion(outputs, labels)\n",
        "    loss.backward()\n",
        "    optimizer.step()\n",
        "    running_loss += loss.item()\n",
        "  train_loss.append(running_loss/len(trainloader))\n",
        "  \n",
        "\n",
        "  with torch.no_grad():\n",
        "    model.eval()\n",
        "    val_corr=0\n",
        "    acc=0\n",
        "    total=0\n",
        "    valid_loss=0\n",
        "    for inputs, labels in tqdm(validloader, position=0, leave=True):\n",
        "      inputs,labels=inputs.to(device),labels.to(device)\n",
        "      outputs=model(inputs)\n",
        "      loss = criterion(outputs, labels)\n",
        "      valid_loss+= loss.item()\n",
        "      pred = torch.max(outputs,1)[1]\n",
        "      val_corr += (labels == pred).sum().item()\n",
        "      total += labels.size(0)\n",
        "      acc=val_corr/total\n",
        "    accuracy.append(acc*100)\n",
        "    validation_loss.append(valid_loss/len(validloader))\n",
        "\n",
        "\n",
        "  print(train_loss)    \n",
        "  print(validation_loss)\n",
        "  print(accuracy)"
      ],
      "execution_count": 50,
      "outputs": [
        {
          "output_type": "stream",
          "text": [
            "100%|██████████| 32/32 [00:06<00:00,  4.58it/s]\n",
            "100%|██████████| 4/4 [00:07<00:00,  1.95s/it]\n",
            "  0%|          | 0/32 [00:00<?, ?it/s]"
          ],
          "name": "stderr"
        },
        {
          "output_type": "stream",
          "text": [
            "[4.64577229321003]\n",
            "[4.5902063846588135]\n",
            "[1.3725490196078431]\n"
          ],
          "name": "stdout"
        },
        {
          "output_type": "stream",
          "text": [
            "100%|██████████| 32/32 [00:06<00:00,  4.82it/s]\n",
            "100%|██████████| 4/4 [00:07<00:00,  1.99s/it]\n",
            "  0%|          | 0/32 [00:00<?, ?it/s]"
          ],
          "name": "stderr"
        },
        {
          "output_type": "stream",
          "text": [
            "[4.64577229321003, 4.569572538137436]\n",
            "[4.5902063846588135, 4.507440209388733]\n",
            "[1.3725490196078431, 3.9215686274509802]\n"
          ],
          "name": "stdout"
        },
        {
          "output_type": "stream",
          "text": [
            "100%|██████████| 32/32 [00:06<00:00,  4.71it/s]\n",
            "100%|██████████| 4/4 [00:07<00:00,  1.93s/it]\n",
            "  0%|          | 0/32 [00:00<?, ?it/s]"
          ],
          "name": "stderr"
        },
        {
          "output_type": "stream",
          "text": [
            "[4.64577229321003, 4.569572538137436, 4.4835668206214905]\n",
            "[4.5902063846588135, 4.507440209388733, 4.426660776138306]\n",
            "[1.3725490196078431, 3.9215686274509802, 8.92156862745098]\n"
          ],
          "name": "stdout"
        },
        {
          "output_type": "stream",
          "text": [
            "100%|██████████| 32/32 [00:06<00:00,  4.78it/s]\n",
            "100%|██████████| 4/4 [00:07<00:00,  1.93s/it]\n",
            "  0%|          | 0/32 [00:00<?, ?it/s]"
          ],
          "name": "stderr"
        },
        {
          "output_type": "stream",
          "text": [
            "[4.64577229321003, 4.569572538137436, 4.4835668206214905, 4.402775064110756]\n",
            "[4.5902063846588135, 4.507440209388733, 4.426660776138306, 4.334953784942627]\n",
            "[1.3725490196078431, 3.9215686274509802, 8.92156862745098, 14.411764705882351]\n"
          ],
          "name": "stdout"
        },
        {
          "output_type": "stream",
          "text": [
            "100%|██████████| 32/32 [00:06<00:00,  4.71it/s]\n",
            "100%|██████████| 4/4 [00:07<00:00,  1.98s/it]\n",
            "  0%|          | 0/32 [00:00<?, ?it/s]"
          ],
          "name": "stderr"
        },
        {
          "output_type": "stream",
          "text": [
            "[4.64577229321003, 4.569572538137436, 4.4835668206214905, 4.402775064110756, 4.314853951334953]\n",
            "[4.5902063846588135, 4.507440209388733, 4.426660776138306, 4.334953784942627, 4.221819996833801]\n",
            "[1.3725490196078431, 3.9215686274509802, 8.92156862745098, 14.411764705882351, 23.823529411764703]\n"
          ],
          "name": "stdout"
        },
        {
          "output_type": "stream",
          "text": [
            "100%|██████████| 32/32 [00:06<00:00,  4.69it/s]\n",
            "100%|██████████| 4/4 [00:07<00:00,  1.92s/it]\n",
            "  0%|          | 0/32 [00:00<?, ?it/s]"
          ],
          "name": "stderr"
        },
        {
          "output_type": "stream",
          "text": [
            "[4.64577229321003, 4.569572538137436, 4.4835668206214905, 4.402775064110756, 4.314853951334953, 4.210940107703209]\n",
            "[4.5902063846588135, 4.507440209388733, 4.426660776138306, 4.334953784942627, 4.221819996833801, 4.086189270019531]\n",
            "[1.3725490196078431, 3.9215686274509802, 8.92156862745098, 14.411764705882351, 23.823529411764703, 31.960784313725487]\n"
          ],
          "name": "stdout"
        },
        {
          "output_type": "stream",
          "text": [
            "100%|██████████| 32/32 [00:06<00:00,  4.85it/s]\n",
            "100%|██████████| 4/4 [00:07<00:00,  1.91s/it]\n",
            "  0%|          | 0/32 [00:00<?, ?it/s]"
          ],
          "name": "stderr"
        },
        {
          "output_type": "stream",
          "text": [
            "[4.64577229321003, 4.569572538137436, 4.4835668206214905, 4.402775064110756, 4.314853951334953, 4.210940107703209, 4.086755596101284]\n",
            "[4.5902063846588135, 4.507440209388733, 4.426660776138306, 4.334953784942627, 4.221819996833801, 4.086189270019531, 3.9317728877067566]\n",
            "[1.3725490196078431, 3.9215686274509802, 8.92156862745098, 14.411764705882351, 23.823529411764703, 31.960784313725487, 37.05882352941177]\n"
          ],
          "name": "stdout"
        },
        {
          "output_type": "stream",
          "text": [
            "100%|██████████| 32/32 [00:06<00:00,  4.83it/s]\n",
            "100%|██████████| 4/4 [00:07<00:00,  1.91s/it]\n",
            "  0%|          | 0/32 [00:00<?, ?it/s]"
          ],
          "name": "stderr"
        },
        {
          "output_type": "stream",
          "text": [
            "[4.64577229321003, 4.569572538137436, 4.4835668206214905, 4.402775064110756, 4.314853951334953, 4.210940107703209, 4.086755596101284, 3.927594803273678]\n",
            "[4.5902063846588135, 4.507440209388733, 4.426660776138306, 4.334953784942627, 4.221819996833801, 4.086189270019531, 3.9317728877067566, 3.7494282722473145]\n",
            "[1.3725490196078431, 3.9215686274509802, 8.92156862745098, 14.411764705882351, 23.823529411764703, 31.960784313725487, 37.05882352941177, 43.03921568627451]\n"
          ],
          "name": "stdout"
        },
        {
          "output_type": "stream",
          "text": [
            "100%|██████████| 32/32 [00:06<00:00,  4.85it/s]\n",
            "100%|██████████| 4/4 [00:07<00:00,  1.95s/it]\n",
            "  0%|          | 0/32 [00:00<?, ?it/s]"
          ],
          "name": "stderr"
        },
        {
          "output_type": "stream",
          "text": [
            "[4.64577229321003, 4.569572538137436, 4.4835668206214905, 4.402775064110756, 4.314853951334953, 4.210940107703209, 4.086755596101284, 3.927594803273678, 3.7422419264912605]\n",
            "[4.5902063846588135, 4.507440209388733, 4.426660776138306, 4.334953784942627, 4.221819996833801, 4.086189270019531, 3.9317728877067566, 3.7494282722473145, 3.535394072532654]\n",
            "[1.3725490196078431, 3.9215686274509802, 8.92156862745098, 14.411764705882351, 23.823529411764703, 31.960784313725487, 37.05882352941177, 43.03921568627451, 48.431372549019606]\n"
          ],
          "name": "stdout"
        },
        {
          "output_type": "stream",
          "text": [
            "100%|██████████| 32/32 [00:06<00:00,  4.67it/s]\n",
            "100%|██████████| 4/4 [00:07<00:00,  1.95s/it]\n",
            "  0%|          | 0/32 [00:00<?, ?it/s]"
          ],
          "name": "stderr"
        },
        {
          "output_type": "stream",
          "text": [
            "[4.64577229321003, 4.569572538137436, 4.4835668206214905, 4.402775064110756, 4.314853951334953, 4.210940107703209, 4.086755596101284, 3.927594803273678, 3.7422419264912605, 3.569014385342598]\n",
            "[4.5902063846588135, 4.507440209388733, 4.426660776138306, 4.334953784942627, 4.221819996833801, 4.086189270019531, 3.9317728877067566, 3.7494282722473145, 3.535394072532654, 3.3115472197532654]\n",
            "[1.3725490196078431, 3.9215686274509802, 8.92156862745098, 14.411764705882351, 23.823529411764703, 31.960784313725487, 37.05882352941177, 43.03921568627451, 48.431372549019606, 50.0]\n"
          ],
          "name": "stdout"
        },
        {
          "output_type": "stream",
          "text": [
            "100%|██████████| 32/32 [00:06<00:00,  4.83it/s]\n",
            "100%|██████████| 4/4 [00:07<00:00,  1.90s/it]\n",
            "  0%|          | 0/32 [00:00<?, ?it/s]"
          ],
          "name": "stderr"
        },
        {
          "output_type": "stream",
          "text": [
            "[4.64577229321003, 4.569572538137436, 4.4835668206214905, 4.402775064110756, 4.314853951334953, 4.210940107703209, 4.086755596101284, 3.927594803273678, 3.7422419264912605, 3.569014385342598, 3.388018675148487]\n",
            "[4.5902063846588135, 4.507440209388733, 4.426660776138306, 4.334953784942627, 4.221819996833801, 4.086189270019531, 3.9317728877067566, 3.7494282722473145, 3.535394072532654, 3.3115472197532654, 3.074109196662903]\n",
            "[1.3725490196078431, 3.9215686274509802, 8.92156862745098, 14.411764705882351, 23.823529411764703, 31.960784313725487, 37.05882352941177, 43.03921568627451, 48.431372549019606, 50.0, 55.09803921568628]\n"
          ],
          "name": "stdout"
        },
        {
          "output_type": "stream",
          "text": [
            "100%|██████████| 32/32 [00:06<00:00,  4.67it/s]\n",
            "100%|██████████| 4/4 [00:07<00:00,  1.96s/it]\n",
            "  0%|          | 0/32 [00:00<?, ?it/s]"
          ],
          "name": "stderr"
        },
        {
          "output_type": "stream",
          "text": [
            "[4.64577229321003, 4.569572538137436, 4.4835668206214905, 4.402775064110756, 4.314853951334953, 4.210940107703209, 4.086755596101284, 3.927594803273678, 3.7422419264912605, 3.569014385342598, 3.388018675148487, 3.146589048206806]\n",
            "[4.5902063846588135, 4.507440209388733, 4.426660776138306, 4.334953784942627, 4.221819996833801, 4.086189270019531, 3.9317728877067566, 3.7494282722473145, 3.535394072532654, 3.3115472197532654, 3.074109196662903, 2.8567826747894287]\n",
            "[1.3725490196078431, 3.9215686274509802, 8.92156862745098, 14.411764705882351, 23.823529411764703, 31.960784313725487, 37.05882352941177, 43.03921568627451, 48.431372549019606, 50.0, 55.09803921568628, 57.647058823529406]\n"
          ],
          "name": "stdout"
        },
        {
          "output_type": "stream",
          "text": [
            "100%|██████████| 32/32 [00:06<00:00,  4.79it/s]\n",
            "100%|██████████| 4/4 [00:07<00:00,  1.91s/it]\n",
            "  0%|          | 0/32 [00:00<?, ?it/s]"
          ],
          "name": "stderr"
        },
        {
          "output_type": "stream",
          "text": [
            "[4.64577229321003, 4.569572538137436, 4.4835668206214905, 4.402775064110756, 4.314853951334953, 4.210940107703209, 4.086755596101284, 3.927594803273678, 3.7422419264912605, 3.569014385342598, 3.388018675148487, 3.146589048206806, 2.9475461915135384]\n",
            "[4.5902063846588135, 4.507440209388733, 4.426660776138306, 4.334953784942627, 4.221819996833801, 4.086189270019531, 3.9317728877067566, 3.7494282722473145, 3.535394072532654, 3.3115472197532654, 3.074109196662903, 2.8567826747894287, 2.614030659198761]\n",
            "[1.3725490196078431, 3.9215686274509802, 8.92156862745098, 14.411764705882351, 23.823529411764703, 31.960784313725487, 37.05882352941177, 43.03921568627451, 48.431372549019606, 50.0, 55.09803921568628, 57.647058823529406, 59.509803921568626]\n"
          ],
          "name": "stdout"
        },
        {
          "output_type": "stream",
          "text": [
            "100%|██████████| 32/32 [00:06<00:00,  4.82it/s]\n",
            "100%|██████████| 4/4 [00:07<00:00,  1.92s/it]\n",
            "  0%|          | 0/32 [00:00<?, ?it/s]"
          ],
          "name": "stderr"
        },
        {
          "output_type": "stream",
          "text": [
            "[4.64577229321003, 4.569572538137436, 4.4835668206214905, 4.402775064110756, 4.314853951334953, 4.210940107703209, 4.086755596101284, 3.927594803273678, 3.7422419264912605, 3.569014385342598, 3.388018675148487, 3.146589048206806, 2.9475461915135384, 2.696686938405037]\n",
            "[4.5902063846588135, 4.507440209388733, 4.426660776138306, 4.334953784942627, 4.221819996833801, 4.086189270019531, 3.9317728877067566, 3.7494282722473145, 3.535394072532654, 3.3115472197532654, 3.074109196662903, 2.8567826747894287, 2.614030659198761, 2.3908668160438538]\n",
            "[1.3725490196078431, 3.9215686274509802, 8.92156862745098, 14.411764705882351, 23.823529411764703, 31.960784313725487, 37.05882352941177, 43.03921568627451, 48.431372549019606, 50.0, 55.09803921568628, 57.647058823529406, 59.509803921568626, 63.725490196078425]\n"
          ],
          "name": "stdout"
        },
        {
          "output_type": "stream",
          "text": [
            "100%|██████████| 32/32 [00:06<00:00,  4.85it/s]\n",
            "100%|██████████| 4/4 [00:07<00:00,  1.91s/it]\n",
            "  3%|▎         | 1/32 [00:00<00:06,  5.03it/s]"
          ],
          "name": "stderr"
        },
        {
          "output_type": "stream",
          "text": [
            "[4.64577229321003, 4.569572538137436, 4.4835668206214905, 4.402775064110756, 4.314853951334953, 4.210940107703209, 4.086755596101284, 3.927594803273678, 3.7422419264912605, 3.569014385342598, 3.388018675148487, 3.146589048206806, 2.9475461915135384, 2.696686938405037, 2.5279562547802925]\n",
            "[4.5902063846588135, 4.507440209388733, 4.426660776138306, 4.334953784942627, 4.221819996833801, 4.086189270019531, 3.9317728877067566, 3.7494282722473145, 3.535394072532654, 3.3115472197532654, 3.074109196662903, 2.8567826747894287, 2.614030659198761, 2.3908668160438538, 2.177520751953125]\n",
            "[1.3725490196078431, 3.9215686274509802, 8.92156862745098, 14.411764705882351, 23.823529411764703, 31.960784313725487, 37.05882352941177, 43.03921568627451, 48.431372549019606, 50.0, 55.09803921568628, 57.647058823529406, 59.509803921568626, 63.725490196078425, 66.86274509803921]\n"
          ],
          "name": "stdout"
        },
        {
          "output_type": "stream",
          "text": [
            "100%|██████████| 32/32 [00:06<00:00,  4.83it/s]\n",
            "100%|██████████| 4/4 [00:07<00:00,  1.95s/it]\n",
            "  0%|          | 0/32 [00:00<?, ?it/s]"
          ],
          "name": "stderr"
        },
        {
          "output_type": "stream",
          "text": [
            "[4.64577229321003, 4.569572538137436, 4.4835668206214905, 4.402775064110756, 4.314853951334953, 4.210940107703209, 4.086755596101284, 3.927594803273678, 3.7422419264912605, 3.569014385342598, 3.388018675148487, 3.146589048206806, 2.9475461915135384, 2.696686938405037, 2.5279562547802925, 2.323392190039158]\n",
            "[4.5902063846588135, 4.507440209388733, 4.426660776138306, 4.334953784942627, 4.221819996833801, 4.086189270019531, 3.9317728877067566, 3.7494282722473145, 3.535394072532654, 3.3115472197532654, 3.074109196662903, 2.8567826747894287, 2.614030659198761, 2.3908668160438538, 2.177520751953125, 2.024788558483124]\n",
            "[1.3725490196078431, 3.9215686274509802, 8.92156862745098, 14.411764705882351, 23.823529411764703, 31.960784313725487, 37.05882352941177, 43.03921568627451, 48.431372549019606, 50.0, 55.09803921568628, 57.647058823529406, 59.509803921568626, 63.725490196078425, 66.86274509803921, 68.23529411764706]\n"
          ],
          "name": "stdout"
        },
        {
          "output_type": "stream",
          "text": [
            "100%|██████████| 32/32 [00:06<00:00,  4.68it/s]\n",
            "100%|██████████| 4/4 [00:07<00:00,  1.94s/it]\n",
            "  0%|          | 0/32 [00:00<?, ?it/s]"
          ],
          "name": "stderr"
        },
        {
          "output_type": "stream",
          "text": [
            "[4.64577229321003, 4.569572538137436, 4.4835668206214905, 4.402775064110756, 4.314853951334953, 4.210940107703209, 4.086755596101284, 3.927594803273678, 3.7422419264912605, 3.569014385342598, 3.388018675148487, 3.146589048206806, 2.9475461915135384, 2.696686938405037, 2.5279562547802925, 2.323392190039158, 2.154583405703306]\n",
            "[4.5902063846588135, 4.507440209388733, 4.426660776138306, 4.334953784942627, 4.221819996833801, 4.086189270019531, 3.9317728877067566, 3.7494282722473145, 3.535394072532654, 3.3115472197532654, 3.074109196662903, 2.8567826747894287, 2.614030659198761, 2.3908668160438538, 2.177520751953125, 2.024788558483124, 1.8509829342365265]\n",
            "[1.3725490196078431, 3.9215686274509802, 8.92156862745098, 14.411764705882351, 23.823529411764703, 31.960784313725487, 37.05882352941177, 43.03921568627451, 48.431372549019606, 50.0, 55.09803921568628, 57.647058823529406, 59.509803921568626, 63.725490196078425, 66.86274509803921, 68.23529411764706, 71.66666666666667]\n"
          ],
          "name": "stdout"
        },
        {
          "output_type": "stream",
          "text": [
            "100%|██████████| 32/32 [00:06<00:00,  4.81it/s]\n",
            "100%|██████████| 4/4 [00:07<00:00,  1.92s/it]\n",
            "  0%|          | 0/32 [00:00<?, ?it/s]"
          ],
          "name": "stderr"
        },
        {
          "output_type": "stream",
          "text": [
            "[4.64577229321003, 4.569572538137436, 4.4835668206214905, 4.402775064110756, 4.314853951334953, 4.210940107703209, 4.086755596101284, 3.927594803273678, 3.7422419264912605, 3.569014385342598, 3.388018675148487, 3.146589048206806, 2.9475461915135384, 2.696686938405037, 2.5279562547802925, 2.323392190039158, 2.154583405703306, 2.0040000453591347]\n",
            "[4.5902063846588135, 4.507440209388733, 4.426660776138306, 4.334953784942627, 4.221819996833801, 4.086189270019531, 3.9317728877067566, 3.7494282722473145, 3.535394072532654, 3.3115472197532654, 3.074109196662903, 2.8567826747894287, 2.614030659198761, 2.3908668160438538, 2.177520751953125, 2.024788558483124, 1.8509829342365265, 1.691148817539215]\n",
            "[1.3725490196078431, 3.9215686274509802, 8.92156862745098, 14.411764705882351, 23.823529411764703, 31.960784313725487, 37.05882352941177, 43.03921568627451, 48.431372549019606, 50.0, 55.09803921568628, 57.647058823529406, 59.509803921568626, 63.725490196078425, 66.86274509803921, 68.23529411764706, 71.66666666666667, 73.52941176470588]\n"
          ],
          "name": "stdout"
        },
        {
          "output_type": "stream",
          "text": [
            "100%|██████████| 32/32 [00:06<00:00,  4.83it/s]\n",
            "100%|██████████| 4/4 [00:07<00:00,  1.91s/it]\n",
            "  0%|          | 0/32 [00:00<?, ?it/s]"
          ],
          "name": "stderr"
        },
        {
          "output_type": "stream",
          "text": [
            "[4.64577229321003, 4.569572538137436, 4.4835668206214905, 4.402775064110756, 4.314853951334953, 4.210940107703209, 4.086755596101284, 3.927594803273678, 3.7422419264912605, 3.569014385342598, 3.388018675148487, 3.146589048206806, 2.9475461915135384, 2.696686938405037, 2.5279562547802925, 2.323392190039158, 2.154583405703306, 2.0040000453591347, 1.836447786539793]\n",
            "[4.5902063846588135, 4.507440209388733, 4.426660776138306, 4.334953784942627, 4.221819996833801, 4.086189270019531, 3.9317728877067566, 3.7494282722473145, 3.535394072532654, 3.3115472197532654, 3.074109196662903, 2.8567826747894287, 2.614030659198761, 2.3908668160438538, 2.177520751953125, 2.024788558483124, 1.8509829342365265, 1.691148817539215, 1.573032259941101]\n",
            "[1.3725490196078431, 3.9215686274509802, 8.92156862745098, 14.411764705882351, 23.823529411764703, 31.960784313725487, 37.05882352941177, 43.03921568627451, 48.431372549019606, 50.0, 55.09803921568628, 57.647058823529406, 59.509803921568626, 63.725490196078425, 66.86274509803921, 68.23529411764706, 71.66666666666667, 73.52941176470588, 76.17647058823529]\n"
          ],
          "name": "stdout"
        },
        {
          "output_type": "stream",
          "text": [
            "100%|██████████| 32/32 [00:06<00:00,  4.84it/s]\n",
            "100%|██████████| 4/4 [00:07<00:00,  1.90s/it]"
          ],
          "name": "stderr"
        },
        {
          "output_type": "stream",
          "text": [
            "[4.64577229321003, 4.569572538137436, 4.4835668206214905, 4.402775064110756, 4.314853951334953, 4.210940107703209, 4.086755596101284, 3.927594803273678, 3.7422419264912605, 3.569014385342598, 3.388018675148487, 3.146589048206806, 2.9475461915135384, 2.696686938405037, 2.5279562547802925, 2.323392190039158, 2.154583405703306, 2.0040000453591347, 1.836447786539793, 1.701786857098341]\n",
            "[4.5902063846588135, 4.507440209388733, 4.426660776138306, 4.334953784942627, 4.221819996833801, 4.086189270019531, 3.9317728877067566, 3.7494282722473145, 3.535394072532654, 3.3115472197532654, 3.074109196662903, 2.8567826747894287, 2.614030659198761, 2.3908668160438538, 2.177520751953125, 2.024788558483124, 1.8509829342365265, 1.691148817539215, 1.573032259941101, 1.468008279800415]\n",
            "[1.3725490196078431, 3.9215686274509802, 8.92156862745098, 14.411764705882351, 23.823529411764703, 31.960784313725487, 37.05882352941177, 43.03921568627451, 48.431372549019606, 50.0, 55.09803921568628, 57.647058823529406, 59.509803921568626, 63.725490196078425, 66.86274509803921, 68.23529411764706, 71.66666666666667, 73.52941176470588, 76.17647058823529, 76.76470588235294]\n"
          ],
          "name": "stdout"
        },
        {
          "output_type": "stream",
          "text": [
            "\n"
          ],
          "name": "stderr"
        }
      ]
    },
    {
      "cell_type": "markdown",
      "metadata": {
        "id": "yTcMrBMF7lZW"
      },
      "source": [
        "## Training Loop - FastAI"
      ]
    },
    {
      "cell_type": "code",
      "metadata": {
        "id": "TEuLpPBe0NMk"
      },
      "source": [
        "!pip install -q fastai==2.4.1"
      ],
      "execution_count": null,
      "outputs": []
    },
    {
      "cell_type": "code",
      "metadata": {
        "id": "YNrj7V7rz9JN"
      },
      "source": [
        "from fastai.vision.all import *\n",
        "data = DataLoaders(trainloader, validloader)\n",
        "learn = Learner(data, model, loss_func=criterion, opt_func=Adam, metrics=accuracy)"
      ],
      "execution_count": 35,
      "outputs": []
    },
    {
      "cell_type": "code",
      "metadata": {
        "colab": {
          "base_uri": "https://localhost:8080/",
          "height": 731
        },
        "id": "GPPbnQPE0hFW",
        "outputId": "b3497593-b51f-4aae-f9b8-12011d7b9a12"
      },
      "source": [
        "learn.fine_tune(num_epochs)"
      ],
      "execution_count": 36,
      "outputs": [
        {
          "output_type": "display_data",
          "data": {
            "text/html": [
              "<table border=\"1\" class=\"dataframe\">\n",
              "  <thead>\n",
              "    <tr style=\"text-align: left;\">\n",
              "      <th>epoch</th>\n",
              "      <th>train_loss</th>\n",
              "      <th>valid_loss</th>\n",
              "      <th>accuracy</th>\n",
              "      <th>time</th>\n",
              "    </tr>\n",
              "  </thead>\n",
              "  <tbody>\n",
              "    <tr>\n",
              "      <td>0</td>\n",
              "      <td>4.128293</td>\n",
              "      <td>3.335753</td>\n",
              "      <td>0.268627</td>\n",
              "      <td>00:14</td>\n",
              "    </tr>\n",
              "  </tbody>\n",
              "</table>"
            ],
            "text/plain": [
              "<IPython.core.display.HTML object>"
            ]
          },
          "metadata": {
            "tags": []
          }
        },
        {
          "output_type": "display_data",
          "data": {
            "text/html": [
              "<table border=\"1\" class=\"dataframe\">\n",
              "  <thead>\n",
              "    <tr style=\"text-align: left;\">\n",
              "      <th>epoch</th>\n",
              "      <th>train_loss</th>\n",
              "      <th>valid_loss</th>\n",
              "      <th>accuracy</th>\n",
              "      <th>time</th>\n",
              "    </tr>\n",
              "  </thead>\n",
              "  <tbody>\n",
              "    <tr>\n",
              "      <td>0</td>\n",
              "      <td>2.262967</td>\n",
              "      <td>1.523196</td>\n",
              "      <td>0.747059</td>\n",
              "      <td>00:15</td>\n",
              "    </tr>\n",
              "    <tr>\n",
              "      <td>1</td>\n",
              "      <td>1.718050</td>\n",
              "      <td>1.018243</td>\n",
              "      <td>0.814706</td>\n",
              "      <td>00:14</td>\n",
              "    </tr>\n",
              "    <tr>\n",
              "      <td>2</td>\n",
              "      <td>1.262595</td>\n",
              "      <td>0.762076</td>\n",
              "      <td>0.822549</td>\n",
              "      <td>00:15</td>\n",
              "    </tr>\n",
              "    <tr>\n",
              "      <td>3</td>\n",
              "      <td>0.987542</td>\n",
              "      <td>0.750510</td>\n",
              "      <td>0.812745</td>\n",
              "      <td>00:14</td>\n",
              "    </tr>\n",
              "    <tr>\n",
              "      <td>4</td>\n",
              "      <td>0.850594</td>\n",
              "      <td>0.943815</td>\n",
              "      <td>0.757843</td>\n",
              "      <td>00:14</td>\n",
              "    </tr>\n",
              "    <tr>\n",
              "      <td>5</td>\n",
              "      <td>0.813167</td>\n",
              "      <td>0.884433</td>\n",
              "      <td>0.790196</td>\n",
              "      <td>00:14</td>\n",
              "    </tr>\n",
              "    <tr>\n",
              "      <td>6</td>\n",
              "      <td>0.731607</td>\n",
              "      <td>0.762097</td>\n",
              "      <td>0.812745</td>\n",
              "      <td>00:14</td>\n",
              "    </tr>\n",
              "    <tr>\n",
              "      <td>7</td>\n",
              "      <td>0.628659</td>\n",
              "      <td>0.974920</td>\n",
              "      <td>0.779412</td>\n",
              "      <td>00:15</td>\n",
              "    </tr>\n",
              "    <tr>\n",
              "      <td>8</td>\n",
              "      <td>0.550381</td>\n",
              "      <td>0.710221</td>\n",
              "      <td>0.828431</td>\n",
              "      <td>00:14</td>\n",
              "    </tr>\n",
              "    <tr>\n",
              "      <td>9</td>\n",
              "      <td>0.482185</td>\n",
              "      <td>0.675275</td>\n",
              "      <td>0.836275</td>\n",
              "      <td>00:14</td>\n",
              "    </tr>\n",
              "    <tr>\n",
              "      <td>10</td>\n",
              "      <td>0.396383</td>\n",
              "      <td>0.560365</td>\n",
              "      <td>0.859804</td>\n",
              "      <td>00:14</td>\n",
              "    </tr>\n",
              "    <tr>\n",
              "      <td>11</td>\n",
              "      <td>0.365965</td>\n",
              "      <td>0.552215</td>\n",
              "      <td>0.865686</td>\n",
              "      <td>00:14</td>\n",
              "    </tr>\n",
              "    <tr>\n",
              "      <td>12</td>\n",
              "      <td>0.301335</td>\n",
              "      <td>0.428886</td>\n",
              "      <td>0.883333</td>\n",
              "      <td>00:14</td>\n",
              "    </tr>\n",
              "    <tr>\n",
              "      <td>13</td>\n",
              "      <td>0.265312</td>\n",
              "      <td>0.454918</td>\n",
              "      <td>0.888235</td>\n",
              "      <td>00:14</td>\n",
              "    </tr>\n",
              "    <tr>\n",
              "      <td>14</td>\n",
              "      <td>0.217211</td>\n",
              "      <td>0.390566</td>\n",
              "      <td>0.903922</td>\n",
              "      <td>00:14</td>\n",
              "    </tr>\n",
              "    <tr>\n",
              "      <td>15</td>\n",
              "      <td>0.189466</td>\n",
              "      <td>0.398261</td>\n",
              "      <td>0.897059</td>\n",
              "      <td>00:14</td>\n",
              "    </tr>\n",
              "    <tr>\n",
              "      <td>16</td>\n",
              "      <td>0.158016</td>\n",
              "      <td>0.358980</td>\n",
              "      <td>0.916667</td>\n",
              "      <td>00:15</td>\n",
              "    </tr>\n",
              "    <tr>\n",
              "      <td>17</td>\n",
              "      <td>0.132719</td>\n",
              "      <td>0.346187</td>\n",
              "      <td>0.912745</td>\n",
              "      <td>00:14</td>\n",
              "    </tr>\n",
              "    <tr>\n",
              "      <td>18</td>\n",
              "      <td>0.127208</td>\n",
              "      <td>0.345729</td>\n",
              "      <td>0.913725</td>\n",
              "      <td>00:14</td>\n",
              "    </tr>\n",
              "    <tr>\n",
              "      <td>19</td>\n",
              "      <td>0.108526</td>\n",
              "      <td>0.347242</td>\n",
              "      <td>0.913725</td>\n",
              "      <td>00:14</td>\n",
              "    </tr>\n",
              "  </tbody>\n",
              "</table>"
            ],
            "text/plain": [
              "<IPython.core.display.HTML object>"
            ]
          },
          "metadata": {
            "tags": []
          }
        }
      ]
    },
    {
      "cell_type": "code",
      "metadata": {
        "id": "bMy9ATcN0t-v"
      },
      "source": [
        ""
      ],
      "execution_count": null,
      "outputs": []
    }
  ]
}