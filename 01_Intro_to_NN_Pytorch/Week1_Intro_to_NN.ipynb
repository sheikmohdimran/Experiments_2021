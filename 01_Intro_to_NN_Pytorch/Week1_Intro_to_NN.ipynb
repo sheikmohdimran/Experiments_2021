{
  "nbformat": 4,
  "nbformat_minor": 0,
  "metadata": {
    "colab": {
      "name": "Week1_Intro_to_NN.ipynb",
      "provenance": [],
      "collapsed_sections": [],
      "toc_visible": true,
      "authorship_tag": "ABX9TyNUdVMuUOCcoTJAREN36oLo",
      "include_colab_link": true
    },
    "kernelspec": {
      "name": "python3",
      "display_name": "Python 3"
    },
    "widgets": {
      "application/vnd.jupyter.widget-state+json": {
        "bafa80b4a62c4dbc91c36ec76719ed52": {
          "model_module": "@jupyter-widgets/controls",
          "model_name": "VBoxModel",
          "model_module_version": "1.5.0",
          "state": {
            "_view_name": "VBoxView",
            "_dom_classes": [],
            "_model_name": "VBoxModel",
            "_view_module": "@jupyter-widgets/controls",
            "_model_module_version": "1.5.0",
            "_view_count": null,
            "_view_module_version": "1.5.0",
            "box_style": "",
            "layout": "IPY_MODEL_f80cc33077f141a38fa4078a69f1dfbe",
            "_model_module": "@jupyter-widgets/controls",
            "children": [
              "IPY_MODEL_ee84bdcbfd604015b40b1e49555cf0b8",
              "IPY_MODEL_ad902235db144ded9456f1d259b13530"
            ]
          }
        },
        "f80cc33077f141a38fa4078a69f1dfbe": {
          "model_module": "@jupyter-widgets/base",
          "model_name": "LayoutModel",
          "model_module_version": "1.2.0",
          "state": {
            "_view_name": "LayoutView",
            "grid_template_rows": null,
            "right": null,
            "justify_content": null,
            "_view_module": "@jupyter-widgets/base",
            "overflow": null,
            "_model_module_version": "1.2.0",
            "_view_count": null,
            "flex_flow": null,
            "width": null,
            "min_width": null,
            "border": null,
            "align_items": null,
            "bottom": null,
            "_model_module": "@jupyter-widgets/base",
            "top": null,
            "grid_column": null,
            "overflow_y": null,
            "overflow_x": null,
            "grid_auto_flow": null,
            "grid_area": null,
            "grid_template_columns": null,
            "flex": null,
            "_model_name": "LayoutModel",
            "justify_items": null,
            "grid_row": null,
            "max_height": null,
            "align_content": null,
            "visibility": null,
            "align_self": null,
            "height": null,
            "min_height": null,
            "padding": null,
            "grid_auto_rows": null,
            "grid_gap": null,
            "max_width": null,
            "order": null,
            "_view_module_version": "1.2.0",
            "grid_template_areas": null,
            "object_position": null,
            "object_fit": null,
            "grid_auto_columns": null,
            "margin": null,
            "display": null,
            "left": null
          }
        },
        "ee84bdcbfd604015b40b1e49555cf0b8": {
          "model_module": "@jupyter-widgets/controls",
          "model_name": "LabelModel",
          "model_module_version": "1.5.0",
          "state": {
            "_view_name": "LabelView",
            "style": "IPY_MODEL_ec96c83f4327490aba92b825af348cf5",
            "_dom_classes": [],
            "description": "",
            "_model_name": "LabelModel",
            "placeholder": "​",
            "_view_module": "@jupyter-widgets/controls",
            "_model_module_version": "1.5.0",
            "value": " 0.01MB of 0.01MB uploaded (0.00MB deduped)\r",
            "_view_count": null,
            "_view_module_version": "1.5.0",
            "description_tooltip": null,
            "_model_module": "@jupyter-widgets/controls",
            "layout": "IPY_MODEL_e2082dc555ae47189bbc99c2f7da62d2"
          }
        },
        "ad902235db144ded9456f1d259b13530": {
          "model_module": "@jupyter-widgets/controls",
          "model_name": "FloatProgressModel",
          "model_module_version": "1.5.0",
          "state": {
            "_view_name": "ProgressView",
            "style": "IPY_MODEL_9afa0c98f4264972b2e070aac62cfa3d",
            "_dom_classes": [],
            "description": "",
            "_model_name": "FloatProgressModel",
            "bar_style": "",
            "max": 1,
            "_view_module": "@jupyter-widgets/controls",
            "_model_module_version": "1.5.0",
            "value": 1,
            "_view_count": null,
            "_view_module_version": "1.5.0",
            "orientation": "horizontal",
            "min": 0,
            "description_tooltip": null,
            "_model_module": "@jupyter-widgets/controls",
            "layout": "IPY_MODEL_3f9268f166114b428be308c442c1bb39"
          }
        },
        "ec96c83f4327490aba92b825af348cf5": {
          "model_module": "@jupyter-widgets/controls",
          "model_name": "DescriptionStyleModel",
          "model_module_version": "1.5.0",
          "state": {
            "_view_name": "StyleView",
            "_model_name": "DescriptionStyleModel",
            "description_width": "",
            "_view_module": "@jupyter-widgets/base",
            "_model_module_version": "1.5.0",
            "_view_count": null,
            "_view_module_version": "1.2.0",
            "_model_module": "@jupyter-widgets/controls"
          }
        },
        "e2082dc555ae47189bbc99c2f7da62d2": {
          "model_module": "@jupyter-widgets/base",
          "model_name": "LayoutModel",
          "model_module_version": "1.2.0",
          "state": {
            "_view_name": "LayoutView",
            "grid_template_rows": null,
            "right": null,
            "justify_content": null,
            "_view_module": "@jupyter-widgets/base",
            "overflow": null,
            "_model_module_version": "1.2.0",
            "_view_count": null,
            "flex_flow": null,
            "width": null,
            "min_width": null,
            "border": null,
            "align_items": null,
            "bottom": null,
            "_model_module": "@jupyter-widgets/base",
            "top": null,
            "grid_column": null,
            "overflow_y": null,
            "overflow_x": null,
            "grid_auto_flow": null,
            "grid_area": null,
            "grid_template_columns": null,
            "flex": null,
            "_model_name": "LayoutModel",
            "justify_items": null,
            "grid_row": null,
            "max_height": null,
            "align_content": null,
            "visibility": null,
            "align_self": null,
            "height": null,
            "min_height": null,
            "padding": null,
            "grid_auto_rows": null,
            "grid_gap": null,
            "max_width": null,
            "order": null,
            "_view_module_version": "1.2.0",
            "grid_template_areas": null,
            "object_position": null,
            "object_fit": null,
            "grid_auto_columns": null,
            "margin": null,
            "display": null,
            "left": null
          }
        },
        "9afa0c98f4264972b2e070aac62cfa3d": {
          "model_module": "@jupyter-widgets/controls",
          "model_name": "ProgressStyleModel",
          "model_module_version": "1.5.0",
          "state": {
            "_view_name": "StyleView",
            "_model_name": "ProgressStyleModel",
            "description_width": "",
            "_view_module": "@jupyter-widgets/base",
            "_model_module_version": "1.5.0",
            "_view_count": null,
            "_view_module_version": "1.2.0",
            "bar_color": null,
            "_model_module": "@jupyter-widgets/controls"
          }
        },
        "3f9268f166114b428be308c442c1bb39": {
          "model_module": "@jupyter-widgets/base",
          "model_name": "LayoutModel",
          "model_module_version": "1.2.0",
          "state": {
            "_view_name": "LayoutView",
            "grid_template_rows": null,
            "right": null,
            "justify_content": null,
            "_view_module": "@jupyter-widgets/base",
            "overflow": null,
            "_model_module_version": "1.2.0",
            "_view_count": null,
            "flex_flow": null,
            "width": null,
            "min_width": null,
            "border": null,
            "align_items": null,
            "bottom": null,
            "_model_module": "@jupyter-widgets/base",
            "top": null,
            "grid_column": null,
            "overflow_y": null,
            "overflow_x": null,
            "grid_auto_flow": null,
            "grid_area": null,
            "grid_template_columns": null,
            "flex": null,
            "_model_name": "LayoutModel",
            "justify_items": null,
            "grid_row": null,
            "max_height": null,
            "align_content": null,
            "visibility": null,
            "align_self": null,
            "height": null,
            "min_height": null,
            "padding": null,
            "grid_auto_rows": null,
            "grid_gap": null,
            "max_width": null,
            "order": null,
            "_view_module_version": "1.2.0",
            "grid_template_areas": null,
            "object_position": null,
            "object_fit": null,
            "grid_auto_columns": null,
            "margin": null,
            "display": null,
            "left": null
          }
        },
        "e433b0daf809475ca23c5dd4cb878db7": {
          "model_module": "@jupyter-widgets/controls",
          "model_name": "VBoxModel",
          "model_module_version": "1.5.0",
          "state": {
            "_view_name": "VBoxView",
            "_dom_classes": [],
            "_model_name": "VBoxModel",
            "_view_module": "@jupyter-widgets/controls",
            "_model_module_version": "1.5.0",
            "_view_count": null,
            "_view_module_version": "1.5.0",
            "box_style": "",
            "layout": "IPY_MODEL_765aa6770de54537b5cc124cfb5022a9",
            "_model_module": "@jupyter-widgets/controls",
            "children": [
              "IPY_MODEL_4a0112e98350403eb53a61936222705f",
              "IPY_MODEL_f943c6d9c86d44f88e900161868980a9"
            ]
          }
        },
        "765aa6770de54537b5cc124cfb5022a9": {
          "model_module": "@jupyter-widgets/base",
          "model_name": "LayoutModel",
          "model_module_version": "1.2.0",
          "state": {
            "_view_name": "LayoutView",
            "grid_template_rows": null,
            "right": null,
            "justify_content": null,
            "_view_module": "@jupyter-widgets/base",
            "overflow": null,
            "_model_module_version": "1.2.0",
            "_view_count": null,
            "flex_flow": null,
            "width": null,
            "min_width": null,
            "border": null,
            "align_items": null,
            "bottom": null,
            "_model_module": "@jupyter-widgets/base",
            "top": null,
            "grid_column": null,
            "overflow_y": null,
            "overflow_x": null,
            "grid_auto_flow": null,
            "grid_area": null,
            "grid_template_columns": null,
            "flex": null,
            "_model_name": "LayoutModel",
            "justify_items": null,
            "grid_row": null,
            "max_height": null,
            "align_content": null,
            "visibility": null,
            "align_self": null,
            "height": null,
            "min_height": null,
            "padding": null,
            "grid_auto_rows": null,
            "grid_gap": null,
            "max_width": null,
            "order": null,
            "_view_module_version": "1.2.0",
            "grid_template_areas": null,
            "object_position": null,
            "object_fit": null,
            "grid_auto_columns": null,
            "margin": null,
            "display": null,
            "left": null
          }
        },
        "4a0112e98350403eb53a61936222705f": {
          "model_module": "@jupyter-widgets/controls",
          "model_name": "LabelModel",
          "model_module_version": "1.5.0",
          "state": {
            "_view_name": "LabelView",
            "style": "IPY_MODEL_3a8112d591a548bda4351efdb35e4f53",
            "_dom_classes": [],
            "description": "",
            "_model_name": "LabelModel",
            "placeholder": "​",
            "_view_module": "@jupyter-widgets/controls",
            "_model_module_version": "1.5.0",
            "value": " 0.01MB of 0.01MB uploaded (0.00MB deduped)\r",
            "_view_count": null,
            "_view_module_version": "1.5.0",
            "description_tooltip": null,
            "_model_module": "@jupyter-widgets/controls",
            "layout": "IPY_MODEL_03806ad3c3cc4256980bc694beaa049b"
          }
        },
        "f943c6d9c86d44f88e900161868980a9": {
          "model_module": "@jupyter-widgets/controls",
          "model_name": "FloatProgressModel",
          "model_module_version": "1.5.0",
          "state": {
            "_view_name": "ProgressView",
            "style": "IPY_MODEL_4c9d8c7bc04240f2b161a5e2dccc7b67",
            "_dom_classes": [],
            "description": "",
            "_model_name": "FloatProgressModel",
            "bar_style": "",
            "max": 1,
            "_view_module": "@jupyter-widgets/controls",
            "_model_module_version": "1.5.0",
            "value": 1,
            "_view_count": null,
            "_view_module_version": "1.5.0",
            "orientation": "horizontal",
            "min": 0,
            "description_tooltip": null,
            "_model_module": "@jupyter-widgets/controls",
            "layout": "IPY_MODEL_23bcbc0b8113485d8ad28e950cd472cc"
          }
        },
        "3a8112d591a548bda4351efdb35e4f53": {
          "model_module": "@jupyter-widgets/controls",
          "model_name": "DescriptionStyleModel",
          "model_module_version": "1.5.0",
          "state": {
            "_view_name": "StyleView",
            "_model_name": "DescriptionStyleModel",
            "description_width": "",
            "_view_module": "@jupyter-widgets/base",
            "_model_module_version": "1.5.0",
            "_view_count": null,
            "_view_module_version": "1.2.0",
            "_model_module": "@jupyter-widgets/controls"
          }
        },
        "03806ad3c3cc4256980bc694beaa049b": {
          "model_module": "@jupyter-widgets/base",
          "model_name": "LayoutModel",
          "model_module_version": "1.2.0",
          "state": {
            "_view_name": "LayoutView",
            "grid_template_rows": null,
            "right": null,
            "justify_content": null,
            "_view_module": "@jupyter-widgets/base",
            "overflow": null,
            "_model_module_version": "1.2.0",
            "_view_count": null,
            "flex_flow": null,
            "width": null,
            "min_width": null,
            "border": null,
            "align_items": null,
            "bottom": null,
            "_model_module": "@jupyter-widgets/base",
            "top": null,
            "grid_column": null,
            "overflow_y": null,
            "overflow_x": null,
            "grid_auto_flow": null,
            "grid_area": null,
            "grid_template_columns": null,
            "flex": null,
            "_model_name": "LayoutModel",
            "justify_items": null,
            "grid_row": null,
            "max_height": null,
            "align_content": null,
            "visibility": null,
            "align_self": null,
            "height": null,
            "min_height": null,
            "padding": null,
            "grid_auto_rows": null,
            "grid_gap": null,
            "max_width": null,
            "order": null,
            "_view_module_version": "1.2.0",
            "grid_template_areas": null,
            "object_position": null,
            "object_fit": null,
            "grid_auto_columns": null,
            "margin": null,
            "display": null,
            "left": null
          }
        },
        "4c9d8c7bc04240f2b161a5e2dccc7b67": {
          "model_module": "@jupyter-widgets/controls",
          "model_name": "ProgressStyleModel",
          "model_module_version": "1.5.0",
          "state": {
            "_view_name": "StyleView",
            "_model_name": "ProgressStyleModel",
            "description_width": "",
            "_view_module": "@jupyter-widgets/base",
            "_model_module_version": "1.5.0",
            "_view_count": null,
            "_view_module_version": "1.2.0",
            "bar_color": null,
            "_model_module": "@jupyter-widgets/controls"
          }
        },
        "23bcbc0b8113485d8ad28e950cd472cc": {
          "model_module": "@jupyter-widgets/base",
          "model_name": "LayoutModel",
          "model_module_version": "1.2.0",
          "state": {
            "_view_name": "LayoutView",
            "grid_template_rows": null,
            "right": null,
            "justify_content": null,
            "_view_module": "@jupyter-widgets/base",
            "overflow": null,
            "_model_module_version": "1.2.0",
            "_view_count": null,
            "flex_flow": null,
            "width": null,
            "min_width": null,
            "border": null,
            "align_items": null,
            "bottom": null,
            "_model_module": "@jupyter-widgets/base",
            "top": null,
            "grid_column": null,
            "overflow_y": null,
            "overflow_x": null,
            "grid_auto_flow": null,
            "grid_area": null,
            "grid_template_columns": null,
            "flex": null,
            "_model_name": "LayoutModel",
            "justify_items": null,
            "grid_row": null,
            "max_height": null,
            "align_content": null,
            "visibility": null,
            "align_self": null,
            "height": null,
            "min_height": null,
            "padding": null,
            "grid_auto_rows": null,
            "grid_gap": null,
            "max_width": null,
            "order": null,
            "_view_module_version": "1.2.0",
            "grid_template_areas": null,
            "object_position": null,
            "object_fit": null,
            "grid_auto_columns": null,
            "margin": null,
            "display": null,
            "left": null
          }
        }
      }
    },
    "accelerator": "GPU"
  },
  "cells": [
    {
      "cell_type": "markdown",
      "metadata": {
        "id": "view-in-github",
        "colab_type": "text"
      },
      "source": [
        "<a href=\"https://colab.research.google.com/github/sheikmohdimran/Experiments_2021/blob/main/01_Intro_to_NN_Pytorch/Week1_Intro_to_NN.ipynb\" target=\"_parent\"><img src=\"https://colab.research.google.com/assets/colab-badge.svg\" alt=\"Open In Colab\"/></a>"
      ]
    },
    {
      "cell_type": "code",
      "metadata": {
        "id": "JH-awn42JjxQ"
      },
      "source": [
        "!pip install gdown -qqq\n",
        "!pip install pytorch-lightning -qqq\n",
        "!pip install wandb -qqq"
      ],
      "execution_count": null,
      "outputs": []
    },
    {
      "cell_type": "code",
      "metadata": {
        "id": "JQ1JL3UDIQGc",
        "colab": {
          "base_uri": "https://localhost:8080/",
          "height": 90
        },
        "outputId": "01bcba4a-145a-428d-f69b-704235e727aa"
      },
      "source": [
        "!gdown --id 1U1AHtJW54coNyRBQPIuKQd0eBb2ErU2H"
      ],
      "execution_count": null,
      "outputs": [
        {
          "output_type": "stream",
          "text": [
            "Downloading...\n",
            "From: https://drive.google.com/uc?id=1U1AHtJW54coNyRBQPIuKQd0eBb2ErU2H\n",
            "To: /content/Churn_Modelling.csv\n",
            "\r  0% 0.00/685k [00:00<?, ?B/s]\r100% 685k/685k [00:00<00:00, 60.0MB/s]\n"
          ],
          "name": "stdout"
        }
      ]
    },
    {
      "cell_type": "markdown",
      "metadata": {
        "id": "xc9rmVfGIURb"
      },
      "source": [
        "#Neural Network basics"
      ]
    },
    {
      "cell_type": "markdown",
      "metadata": {
        "id": "xQ0JDEaxOH76"
      },
      "source": [
        "## Given a Bank customer, can we build a classifier which can determine whether they will leave or not using Neural networks?\n",
        "The case study is from an open source dataset from Kaggle.\n",
        "\n",
        "Link to the Kaggle project site:\n",
        "https://www.kaggle.com/barelydedicated/bank-customer-churn-modeling"
      ]
    },
    {
      "cell_type": "code",
      "metadata": {
        "id": "ngmN7vLDIYvr"
      },
      "source": [
        "import pandas as pd\n",
        "from sklearn import model_selection\n",
        "from sklearn.model_selection import train_test_split\n",
        "from sklearn.preprocessing import LabelEncoder, OneHotEncoder\n",
        "from sklearn.metrics import confusion_matrix"
      ],
      "execution_count": null,
      "outputs": []
    },
    {
      "cell_type": "code",
      "metadata": {
        "id": "4Jgnl4T7IhAk"
      },
      "source": [
        "ds = pd.read_csv(\"Churn_Modelling.csv\")"
      ],
      "execution_count": null,
      "outputs": []
    },
    {
      "cell_type": "code",
      "metadata": {
        "id": "wCz2NivhIhkI",
        "colab": {
          "base_uri": "https://localhost:8080/",
          "height": 383
        },
        "outputId": "a464f2bd-38d3-45ce-e756-16f3b913dd54"
      },
      "source": [
        "ds.head(10)"
      ],
      "execution_count": null,
      "outputs": [
        {
          "output_type": "execute_result",
          "data": {
            "text/html": [
              "<div>\n",
              "<style scoped>\n",
              "    .dataframe tbody tr th:only-of-type {\n",
              "        vertical-align: middle;\n",
              "    }\n",
              "\n",
              "    .dataframe tbody tr th {\n",
              "        vertical-align: top;\n",
              "    }\n",
              "\n",
              "    .dataframe thead th {\n",
              "        text-align: right;\n",
              "    }\n",
              "</style>\n",
              "<table border=\"1\" class=\"dataframe\">\n",
              "  <thead>\n",
              "    <tr style=\"text-align: right;\">\n",
              "      <th></th>\n",
              "      <th>RowNumber</th>\n",
              "      <th>CustomerId</th>\n",
              "      <th>Surname</th>\n",
              "      <th>CreditScore</th>\n",
              "      <th>Geography</th>\n",
              "      <th>Gender</th>\n",
              "      <th>Age</th>\n",
              "      <th>Tenure</th>\n",
              "      <th>Balance</th>\n",
              "      <th>NumOfProducts</th>\n",
              "      <th>HasCrCard</th>\n",
              "      <th>IsActiveMember</th>\n",
              "      <th>EstimatedSalary</th>\n",
              "      <th>Exited</th>\n",
              "    </tr>\n",
              "  </thead>\n",
              "  <tbody>\n",
              "    <tr>\n",
              "      <th>0</th>\n",
              "      <td>1</td>\n",
              "      <td>15634602</td>\n",
              "      <td>Hargrave</td>\n",
              "      <td>619</td>\n",
              "      <td>France</td>\n",
              "      <td>Female</td>\n",
              "      <td>42</td>\n",
              "      <td>2</td>\n",
              "      <td>0.00</td>\n",
              "      <td>1</td>\n",
              "      <td>1</td>\n",
              "      <td>1</td>\n",
              "      <td>101348.88</td>\n",
              "      <td>1</td>\n",
              "    </tr>\n",
              "    <tr>\n",
              "      <th>1</th>\n",
              "      <td>2</td>\n",
              "      <td>15647311</td>\n",
              "      <td>Hill</td>\n",
              "      <td>608</td>\n",
              "      <td>Spain</td>\n",
              "      <td>Female</td>\n",
              "      <td>41</td>\n",
              "      <td>1</td>\n",
              "      <td>83807.86</td>\n",
              "      <td>1</td>\n",
              "      <td>0</td>\n",
              "      <td>1</td>\n",
              "      <td>112542.58</td>\n",
              "      <td>0</td>\n",
              "    </tr>\n",
              "    <tr>\n",
              "      <th>2</th>\n",
              "      <td>3</td>\n",
              "      <td>15619304</td>\n",
              "      <td>Onio</td>\n",
              "      <td>502</td>\n",
              "      <td>France</td>\n",
              "      <td>Female</td>\n",
              "      <td>42</td>\n",
              "      <td>8</td>\n",
              "      <td>159660.80</td>\n",
              "      <td>3</td>\n",
              "      <td>1</td>\n",
              "      <td>0</td>\n",
              "      <td>113931.57</td>\n",
              "      <td>1</td>\n",
              "    </tr>\n",
              "    <tr>\n",
              "      <th>3</th>\n",
              "      <td>4</td>\n",
              "      <td>15701354</td>\n",
              "      <td>Boni</td>\n",
              "      <td>699</td>\n",
              "      <td>France</td>\n",
              "      <td>Female</td>\n",
              "      <td>39</td>\n",
              "      <td>1</td>\n",
              "      <td>0.00</td>\n",
              "      <td>2</td>\n",
              "      <td>0</td>\n",
              "      <td>0</td>\n",
              "      <td>93826.63</td>\n",
              "      <td>0</td>\n",
              "    </tr>\n",
              "    <tr>\n",
              "      <th>4</th>\n",
              "      <td>5</td>\n",
              "      <td>15737888</td>\n",
              "      <td>Mitchell</td>\n",
              "      <td>850</td>\n",
              "      <td>Spain</td>\n",
              "      <td>Female</td>\n",
              "      <td>43</td>\n",
              "      <td>2</td>\n",
              "      <td>125510.82</td>\n",
              "      <td>1</td>\n",
              "      <td>1</td>\n",
              "      <td>1</td>\n",
              "      <td>79084.10</td>\n",
              "      <td>0</td>\n",
              "    </tr>\n",
              "    <tr>\n",
              "      <th>5</th>\n",
              "      <td>6</td>\n",
              "      <td>15574012</td>\n",
              "      <td>Chu</td>\n",
              "      <td>645</td>\n",
              "      <td>Spain</td>\n",
              "      <td>Male</td>\n",
              "      <td>44</td>\n",
              "      <td>8</td>\n",
              "      <td>113755.78</td>\n",
              "      <td>2</td>\n",
              "      <td>1</td>\n",
              "      <td>0</td>\n",
              "      <td>149756.71</td>\n",
              "      <td>1</td>\n",
              "    </tr>\n",
              "    <tr>\n",
              "      <th>6</th>\n",
              "      <td>7</td>\n",
              "      <td>15592531</td>\n",
              "      <td>Bartlett</td>\n",
              "      <td>822</td>\n",
              "      <td>France</td>\n",
              "      <td>Male</td>\n",
              "      <td>50</td>\n",
              "      <td>7</td>\n",
              "      <td>0.00</td>\n",
              "      <td>2</td>\n",
              "      <td>1</td>\n",
              "      <td>1</td>\n",
              "      <td>10062.80</td>\n",
              "      <td>0</td>\n",
              "    </tr>\n",
              "    <tr>\n",
              "      <th>7</th>\n",
              "      <td>8</td>\n",
              "      <td>15656148</td>\n",
              "      <td>Obinna</td>\n",
              "      <td>376</td>\n",
              "      <td>Germany</td>\n",
              "      <td>Female</td>\n",
              "      <td>29</td>\n",
              "      <td>4</td>\n",
              "      <td>115046.74</td>\n",
              "      <td>4</td>\n",
              "      <td>1</td>\n",
              "      <td>0</td>\n",
              "      <td>119346.88</td>\n",
              "      <td>1</td>\n",
              "    </tr>\n",
              "    <tr>\n",
              "      <th>8</th>\n",
              "      <td>9</td>\n",
              "      <td>15792365</td>\n",
              "      <td>He</td>\n",
              "      <td>501</td>\n",
              "      <td>France</td>\n",
              "      <td>Male</td>\n",
              "      <td>44</td>\n",
              "      <td>4</td>\n",
              "      <td>142051.07</td>\n",
              "      <td>2</td>\n",
              "      <td>0</td>\n",
              "      <td>1</td>\n",
              "      <td>74940.50</td>\n",
              "      <td>0</td>\n",
              "    </tr>\n",
              "    <tr>\n",
              "      <th>9</th>\n",
              "      <td>10</td>\n",
              "      <td>15592389</td>\n",
              "      <td>H?</td>\n",
              "      <td>684</td>\n",
              "      <td>France</td>\n",
              "      <td>Male</td>\n",
              "      <td>27</td>\n",
              "      <td>2</td>\n",
              "      <td>134603.88</td>\n",
              "      <td>1</td>\n",
              "      <td>1</td>\n",
              "      <td>1</td>\n",
              "      <td>71725.73</td>\n",
              "      <td>0</td>\n",
              "    </tr>\n",
              "  </tbody>\n",
              "</table>\n",
              "</div>"
            ],
            "text/plain": [
              "   RowNumber  CustomerId   Surname  ...  IsActiveMember EstimatedSalary Exited\n",
              "0          1    15634602  Hargrave  ...               1       101348.88      1\n",
              "1          2    15647311      Hill  ...               1       112542.58      0\n",
              "2          3    15619304      Onio  ...               0       113931.57      1\n",
              "3          4    15701354      Boni  ...               0        93826.63      0\n",
              "4          5    15737888  Mitchell  ...               1        79084.10      0\n",
              "5          6    15574012       Chu  ...               0       149756.71      1\n",
              "6          7    15592531  Bartlett  ...               1        10062.80      0\n",
              "7          8    15656148    Obinna  ...               0       119346.88      1\n",
              "8          9    15792365        He  ...               1        74940.50      0\n",
              "9         10    15592389        H?  ...               1        71725.73      0\n",
              "\n",
              "[10 rows x 14 columns]"
            ]
          },
          "metadata": {
            "tags": []
          },
          "execution_count": 5
        }
      ]
    },
    {
      "cell_type": "code",
      "metadata": {
        "id": "dsYmwQoWIic9",
        "colab": {
          "base_uri": "https://localhost:8080/",
          "height": 90
        },
        "outputId": "1bc65830-7b6f-464c-a5bb-4eb52966ff5d"
      },
      "source": [
        "ds['Geography'].value_counts()"
      ],
      "execution_count": null,
      "outputs": [
        {
          "output_type": "execute_result",
          "data": {
            "text/plain": [
              "France     5014\n",
              "Germany    2509\n",
              "Spain      2477\n",
              "Name: Geography, dtype: int64"
            ]
          },
          "metadata": {
            "tags": []
          },
          "execution_count": 6
        }
      ]
    },
    {
      "cell_type": "markdown",
      "metadata": {
        "id": "4glKgzvVOOv6"
      },
      "source": [
        "### RowNumber, CustomerId, and Surname are unique hence we are dropping it"
      ]
    },
    {
      "cell_type": "code",
      "metadata": {
        "id": "KS2Bz1_OIj5C"
      },
      "source": [
        "ds = ds.drop(['RowNumber', 'CustomerId', 'Surname'], axis=1)"
      ],
      "execution_count": null,
      "outputs": []
    },
    {
      "cell_type": "code",
      "metadata": {
        "id": "t6s6aQzKIlLi",
        "colab": {
          "base_uri": "https://localhost:8080/",
          "height": 344
        },
        "outputId": "2fed2648-a94e-4a13-ccbf-53a082067778"
      },
      "source": [
        "ds.info()"
      ],
      "execution_count": null,
      "outputs": [
        {
          "output_type": "stream",
          "text": [
            "<class 'pandas.core.frame.DataFrame'>\n",
            "RangeIndex: 10000 entries, 0 to 9999\n",
            "Data columns (total 11 columns):\n",
            " #   Column           Non-Null Count  Dtype  \n",
            "---  ------           --------------  -----  \n",
            " 0   CreditScore      10000 non-null  int64  \n",
            " 1   Geography        10000 non-null  object \n",
            " 2   Gender           10000 non-null  object \n",
            " 3   Age              10000 non-null  int64  \n",
            " 4   Tenure           10000 non-null  int64  \n",
            " 5   Balance          10000 non-null  float64\n",
            " 6   NumOfProducts    10000 non-null  int64  \n",
            " 7   HasCrCard        10000 non-null  int64  \n",
            " 8   IsActiveMember   10000 non-null  int64  \n",
            " 9   EstimatedSalary  10000 non-null  float64\n",
            " 10  Exited           10000 non-null  int64  \n",
            "dtypes: float64(2), int64(7), object(2)\n",
            "memory usage: 859.5+ KB\n"
          ],
          "name": "stdout"
        }
      ]
    },
    {
      "cell_type": "markdown",
      "metadata": {
        "id": "F-cr5oiEOZXv"
      },
      "source": [
        "### Distinguish the feature and target set"
      ]
    },
    {
      "cell_type": "code",
      "metadata": {
        "id": "yagjWM9jIl-U"
      },
      "source": [
        "X = ds.iloc[:,0:10].values # Credit Score through Estimated Salary\n",
        "y = ds.iloc[:,10].values # Exited"
      ],
      "execution_count": null,
      "outputs": []
    },
    {
      "cell_type": "markdown",
      "metadata": {
        "id": "P3j-qX2yObrC"
      },
      "source": [
        "### Encoding categorical (string based) data. Country: there are 3 options: France, Spain and Germany. This will convert those strings into scalar values for analysis."
      ]
    },
    {
      "cell_type": "code",
      "metadata": {
        "id": "GNPo59uBInNS",
        "colab": {
          "base_uri": "https://localhost:8080/",
          "height": 53
        },
        "outputId": "fa702f42-4619-42d2-e8d9-da95378a0ef9"
      },
      "source": [
        "print(X[:8,1], '... will now become: ')\n",
        "\n",
        "label_X_country_encoder = LabelEncoder()\n",
        "X[:,1] = label_X_country_encoder.fit_transform(X[:,1])\n",
        "print(X[:8,1])"
      ],
      "execution_count": null,
      "outputs": [
        {
          "output_type": "stream",
          "text": [
            "['France' 'Spain' 'France' 'France' 'Spain' 'Spain' 'France' 'Germany'] ... will now become: \n",
            "[0 2 0 0 2 2 0 1]\n"
          ],
          "name": "stdout"
        }
      ]
    },
    {
      "cell_type": "markdown",
      "metadata": {
        "id": "DSfoaTg_Oeon"
      },
      "source": [
        "### We will do the same thing for gender. this will be binary in this dataset"
      ]
    },
    {
      "cell_type": "code",
      "metadata": {
        "id": "2It80EY0IvVi",
        "colab": {
          "base_uri": "https://localhost:8080/",
          "height": 53
        },
        "outputId": "0ec6213b-d559-4b1f-bd00-7d575b4dfc57"
      },
      "source": [
        "print(X[:6,2], '... will now become: ')\n",
        "\n",
        "label_X_gender_encoder = LabelEncoder()\n",
        "X[:,2] = label_X_gender_encoder.fit_transform(X[:,2])\n",
        "print(X[:6,2])"
      ],
      "execution_count": null,
      "outputs": [
        {
          "output_type": "stream",
          "text": [
            "['Female' 'Female' 'Female' 'Female' 'Female' 'Male'] ... will now become: \n",
            "[0 0 0 0 0 1]\n"
          ],
          "name": "stdout"
        }
      ]
    },
    {
      "cell_type": "markdown",
      "metadata": {
        "id": "lRWTmPzGOhlh"
      },
      "source": [
        "### The Problem here is that we are treating the countries as one variable with ordinal values (0 < 1 < 2). Therefore, one way to get rid of that problem is to split the countries into respective dimensions. Gender does not need this as it is binary\n",
        "\n",
        "### Converting the string features into their own dimensions. Gender doesn't matter here because its binary"
      ]
    },
    {
      "cell_type": "code",
      "metadata": {
        "id": "EjqZFrInIwte"
      },
      "source": [
        "from sklearn.compose import ColumnTransformer \n",
        "country = ColumnTransformer([(\"transform_country\", OneHotEncoder(), [1])], remainder = 'passthrough')\n",
        "X = country.fit_transform(X)#.toarray()"
      ],
      "execution_count": null,
      "outputs": []
    },
    {
      "cell_type": "code",
      "metadata": {
        "id": "YcFNn3T-Iytx",
        "colab": {
          "base_uri": "https://localhost:8080/",
          "height": 35
        },
        "outputId": "9e766893-c3b8-4454-bc88-f5efe80f32ed"
      },
      "source": [
        "X.shape"
      ],
      "execution_count": null,
      "outputs": [
        {
          "output_type": "execute_result",
          "data": {
            "text/plain": [
              "(10000, 12)"
            ]
          },
          "metadata": {
            "tags": []
          },
          "execution_count": 13
        }
      ]
    },
    {
      "cell_type": "code",
      "metadata": {
        "id": "NGhxXfnYIzaG",
        "colab": {
          "base_uri": "https://localhost:8080/",
          "height": 144
        },
        "outputId": "c0327965-73d1-43bb-fc32-c000b3ac0350"
      },
      "source": [
        "X"
      ],
      "execution_count": null,
      "outputs": [
        {
          "output_type": "execute_result",
          "data": {
            "text/plain": [
              "array([[1.0, 0.0, 0.0, ..., 1, 1, 101348.88],\n",
              "       [0.0, 0.0, 1.0, ..., 0, 1, 112542.58],\n",
              "       [1.0, 0.0, 0.0, ..., 1, 0, 113931.57],\n",
              "       ...,\n",
              "       [1.0, 0.0, 0.0, ..., 0, 1, 42085.58],\n",
              "       [0.0, 1.0, 0.0, ..., 1, 0, 92888.52],\n",
              "       [1.0, 0.0, 0.0, ..., 1, 0, 38190.78]], dtype=object)"
            ]
          },
          "metadata": {
            "tags": []
          },
          "execution_count": 14
        }
      ]
    },
    {
      "cell_type": "code",
      "metadata": {
        "id": "ZEjIiQ1pOo53"
      },
      "source": [
        "# A 0 on two countries means that the country has to be the one variable which wasn't included \n",
        "# This will save us from the problem of using too many dimensions\n",
        "X = X[:,1:] # Got rid of Spain as a dimension."
      ],
      "execution_count": null,
      "outputs": []
    },
    {
      "cell_type": "markdown",
      "metadata": {
        "id": "gzxYaLmEOrD_"
      },
      "source": [
        "### Divide the data set into Train and test sets"
      ]
    },
    {
      "cell_type": "code",
      "metadata": {
        "id": "nYnUvBVfI0DG"
      },
      "source": [
        "X_train, X_test, y_train, y_test = train_test_split(X,y, test_size = 0.2, random_state = 0)"
      ],
      "execution_count": null,
      "outputs": []
    },
    {
      "cell_type": "markdown",
      "metadata": {
        "id": "w-MdX3rXOtOA"
      },
      "source": [
        "### Normalize the train and test data"
      ]
    },
    {
      "cell_type": "code",
      "metadata": {
        "id": "v5D4_zbOI2hS"
      },
      "source": [
        "from sklearn.preprocessing import StandardScaler\n",
        "sc=StandardScaler()\n",
        "X_train = sc.fit_transform(X_train)\n",
        "X_test = sc.transform(X_test)"
      ],
      "execution_count": null,
      "outputs": []
    },
    {
      "cell_type": "code",
      "metadata": {
        "id": "8WULNNQgRu6t",
        "colab": {
          "base_uri": "https://localhost:8080/",
          "height": 35
        },
        "outputId": "41427e65-5471-454c-a7be-edc82fa3bfd4"
      },
      "source": [
        "X_test.shape"
      ],
      "execution_count": null,
      "outputs": [
        {
          "output_type": "execute_result",
          "data": {
            "text/plain": [
              "(2000, 11)"
            ]
          },
          "metadata": {
            "tags": []
          },
          "execution_count": 18
        }
      ]
    },
    {
      "cell_type": "markdown",
      "metadata": {
        "id": "kcece2XhOx12"
      },
      "source": [
        "### Initialize & build the model"
      ]
    },
    {
      "cell_type": "code",
      "metadata": {
        "id": "JXYEFBHVI3--"
      },
      "source": [
        "from sklearn.metrics import accuracy_score\n",
        "\n",
        "import numpy as np\n",
        "import torch\n",
        "from torch import nn\n",
        "from torch import sigmoid\n",
        "from torch.nn import functional as F\n",
        "from torch.utils.data import TensorDataset, DataLoader\n",
        "import pytorch_lightning as pl\n",
        "from pytorch_lightning.core.lightning import LightningModule\n",
        "from pytorch_lightning.loggers import WandbLogger"
      ],
      "execution_count": null,
      "outputs": []
    },
    {
      "cell_type": "code",
      "metadata": {
        "id": "S0EhEsCJaVDN",
        "colab": {
          "base_uri": "https://localhost:8080/",
          "height": 35
        },
        "outputId": "2a670792-b2ec-498d-ed4d-959f1927e1c0"
      },
      "source": [
        "!wandb login f0ec70da847783160066976cd7aa3b6c64cb1007"
      ],
      "execution_count": null,
      "outputs": [
        {
          "output_type": "stream",
          "text": [
            "\u001b[34m\u001b[1mwandb\u001b[0m: Appending key for api.wandb.ai to your netrc file: /root/.netrc\n"
          ],
          "name": "stdout"
        }
      ]
    },
    {
      "cell_type": "code",
      "metadata": {
        "id": "DFqZXUUPBGgM"
      },
      "source": [
        "train_loader=DataLoader(TensorDataset(torch.from_numpy(X_train.astype(np.float32)),\n",
        "                                        torch.from_numpy(y_train.astype(np.float32))), \n",
        "                          batch_size=64)\n",
        "val_loader=DataLoader(TensorDataset(torch.from_numpy(X_train.astype(np.float32)),\n",
        "                                        torch.from_numpy(y_train.astype(np.float32))), \n",
        "                          batch_size=64)"
      ],
      "execution_count": null,
      "outputs": []
    },
    {
      "cell_type": "code",
      "metadata": {
        "id": "dKOy4r71JfcM"
      },
      "source": [
        "class LitMNIST(LightningModule):\n",
        "  def __init__(self, optim, loss=nn.MSELoss(), lr=1e-3, batch_size=64):\n",
        "    super().__init__()\n",
        "    self.batch_size = batch_size\n",
        "    self.optim=optim\n",
        "    self.loss=loss\n",
        "    self.lr=lr\n",
        "\n",
        "    # Hardcoding\n",
        "    self.hidden = 6\n",
        "    self.input_dim = 11\n",
        "\n",
        "    self.model = nn.Sequential(\n",
        "        nn.Flatten(),\n",
        "        nn.Linear(self.input_dim, self.hidden),\n",
        "        nn.ReLU(),\n",
        "        nn.Linear(self.hidden, self.hidden),\n",
        "        nn.Sigmoid(),\n",
        "        nn.Linear(self.hidden, 1),\n",
        "        nn.Sigmoid()\n",
        "    )\n",
        "\n",
        "  def forward(self, x):\n",
        "    x = self.model(x)\n",
        "    return (x)\n",
        "\n",
        "  def configure_optimizers(self):\n",
        "        return self.optim(self.parameters(), lr=self.lr)\n",
        "\n",
        "  def training_step(self, batch, batch_idx):\n",
        "        x, y = batch\n",
        "        logits = self(x).squeeze()\n",
        "        loss = self.loss(logits, y)\n",
        "        result= pl.TrainResult(loss)\n",
        "        result.log('train_loss', loss, prog_bar=True)\n",
        "        return result\n",
        "\n",
        "  def validation_step(self, batch, batch_idx):\n",
        "        x, y = batch\n",
        "        logits = self(x).squeeze()\n",
        "        loss = self.loss(logits, y)\n",
        "        preds=(logits>0.5)== y\n",
        "        acc = preds.float().mean()\n",
        "        result = pl.EvalResult(checkpoint_on=loss)\n",
        "        result.log('val_loss', loss, prog_bar=True,on_epoch=True, on_step=False)\n",
        "        result.log('val_acc', acc, prog_bar=True,on_epoch=True, on_step=False)\n",
        "        return result\n"
      ],
      "execution_count": null,
      "outputs": []
    },
    {
      "cell_type": "markdown",
      "metadata": {
        "id": "Qj1R2wGmzsWk"
      },
      "source": [
        "## Training the model"
      ]
    },
    {
      "cell_type": "code",
      "metadata": {
        "id": "i_nhs7S7NjcS",
        "colab": {
          "base_uri": "https://localhost:8080/",
          "height": 942,
          "referenced_widgets": [
            "bafa80b4a62c4dbc91c36ec76719ed52",
            "f80cc33077f141a38fa4078a69f1dfbe",
            "ee84bdcbfd604015b40b1e49555cf0b8",
            "ad902235db144ded9456f1d259b13530",
            "ec96c83f4327490aba92b825af348cf5",
            "e2082dc555ae47189bbc99c2f7da62d2",
            "9afa0c98f4264972b2e070aac62cfa3d",
            "3f9268f166114b428be308c442c1bb39"
          ]
        },
        "outputId": "6b456f7e-d64f-427a-e3dc-31554307dfc0"
      },
      "source": [
        "wandb_logger = WandbLogger(name='SGD-64-0.001',project='pytorchlightning')\n",
        "model = LitMNIST(optim=torch.optim.SGD, loss=nn.BCELoss(), lr=1e-3)\n",
        "trainer = pl.Trainer(max_epochs=100, progress_bar_refresh_rate=0, gpus=1, logger=wandb_logger)\n",
        "trainer.fit(model,train_loader,val_loader)"
      ],
      "execution_count": null,
      "outputs": [
        {
          "output_type": "stream",
          "text": [
            "GPU available: True, used: True\n",
            "TPU available: False, using: 0 TPU cores\n",
            "CUDA_VISIBLE_DEVICES: [0]\n",
            "\u001b[34m\u001b[1mwandb\u001b[0m: \u001b[33mWARNING\u001b[0m Calling wandb.login() after wandb.init() has no effect.\n"
          ],
          "name": "stderr"
        },
        {
          "output_type": "display_data",
          "data": {
            "text/html": [
              "<br/>Waiting for W&B process to finish, PID 709<br/>Program ended successfully."
            ],
            "text/plain": [
              "<IPython.core.display.HTML object>"
            ]
          },
          "metadata": {
            "tags": []
          }
        },
        {
          "output_type": "display_data",
          "data": {
            "application/vnd.jupyter.widget-view+json": {
              "model_id": "bafa80b4a62c4dbc91c36ec76719ed52",
              "version_minor": 0,
              "version_major": 2
            },
            "text/plain": [
              "VBox(children=(Label(value=' 0.00MB of 0.00MB uploaded (0.00MB deduped)\\r'), FloatProgress(value=1.0, max=1.0)…"
            ]
          },
          "metadata": {
            "tags": []
          }
        },
        {
          "output_type": "display_data",
          "data": {
            "text/html": [
              "Find user logs for this run at: <code>wandb/run-20201005_150903-2hlkpqe7/logs/debug.log</code>"
            ],
            "text/plain": [
              "<IPython.core.display.HTML object>"
            ]
          },
          "metadata": {
            "tags": []
          }
        },
        {
          "output_type": "display_data",
          "data": {
            "text/html": [
              "Find internal logs for this run at: <code>wandb/run-20201005_150903-2hlkpqe7/logs/debug-internal.log</code>"
            ],
            "text/plain": [
              "<IPython.core.display.HTML object>"
            ]
          },
          "metadata": {
            "tags": []
          }
        },
        {
          "output_type": "display_data",
          "data": {
            "text/html": [
              "<h3>Run summary:</h3><br/><style>\n",
              "    table.wandb td:nth-child(1) { padding: 0 10px; text-align: right }\n",
              "    </style><table class=\"wandb\">\n",
              "<tr><td>global_step</td><td>12499</td></tr><tr><td>train_loss</td><td>0.28308</td></tr><tr><td>epoch</td><td>99</td></tr><tr><td>_step</td><td>299</td></tr><tr><td>_runtime</td><td>46</td></tr><tr><td>_timestamp</td><td>1601910589</td></tr><tr><td>val_loss</td><td>0.28155</td></tr><tr><td>val_acc</td><td>0.204</td></tr></table>"
            ],
            "text/plain": [
              "<IPython.core.display.HTML object>"
            ]
          },
          "metadata": {
            "tags": []
          }
        },
        {
          "output_type": "display_data",
          "data": {
            "text/html": [
              "<h3>Run history:</h3><br/><style>\n",
              "    table.wandb td:nth-child(1) { padding: 0 10px; text-align: right }\n",
              "    </style><table class=\"wandb\">\n",
              "<tr><td>global_step</td><td>▁▁▁▁▂▂▂▂▂▃▃▃▃▃▃▄▄▄▄▄▅▅▅▅▅▅▆▆▆▆▆▆▇▇▇▇▇███</td></tr><tr><td>train_loss</td><td>███▇▇▇▇▇▇▆▆▆▆▆▅▅▅▅▅▅▄▄▄▄▄▃▃▃▃▃▃▂▂▂▂▂▂▁▁▁</td></tr><tr><td>epoch</td><td>▁▁▁▁▂▂▂▂▂▃▃▃▃▃▃▄▄▄▄▄▅▅▅▅▅▅▆▆▆▆▆▇▇▇▇▇▇███</td></tr><tr><td>_step</td><td>▁▁▁▁▂▂▂▂▂▃▃▃▃▃▃▄▄▄▄▄▅▅▅▅▅▅▆▆▆▆▆▆▇▇▇▇▇███</td></tr><tr><td>_runtime</td><td>▁▁▁▁▂▂▂▂▂▃▃▃▃▃▃▄▄▄▄▄▅▅▅▅▅▅▆▆▆▆▆▆▇▇▇▇▇███</td></tr><tr><td>_timestamp</td><td>▁▁▁▁▂▂▂▂▂▃▃▃▃▃▃▄▄▄▄▄▅▅▅▅▅▅▆▆▆▆▆▆▇▇▇▇▇███</td></tr><tr><td>val_loss</td><td>███▇▇▇▇▇▇▆▆▆▆▆▅▅▅▅▅▅▄▄▄▄▄▃▃▃▃▃▃▂▂▂▂▂▂▁▁▁</td></tr><tr><td>val_acc</td><td>▁▁▁▁▁▁▁▁▁▁▁▁▁▁▁▁▁▁▁▁▁▁▁▁▁▁▁▁▁▁▁▁▁▁▁▁▁▁▁▁</td></tr></table><br/>"
            ],
            "text/plain": [
              "<IPython.core.display.HTML object>"
            ]
          },
          "metadata": {
            "tags": []
          }
        },
        {
          "output_type": "display_data",
          "data": {
            "text/html": [
              "Synced 5 W&B file(s), 0 media file(s), 0 artifact file(s) and 0 other file(s)"
            ],
            "text/plain": [
              "<IPython.core.display.HTML object>"
            ]
          },
          "metadata": {
            "tags": []
          }
        },
        {
          "output_type": "display_data",
          "data": {
            "text/html": [
              "\n",
              "                    <br/>Synced <strong style=\"color:#cdcd00\">SGD-64-0.001</strong>: <a href=\"https://wandb.ai/sheikmohdimran/pytorchlightning/runs/2hlkpqe7\" target=\"_blank\">https://wandb.ai/sheikmohdimran/pytorchlightning/runs/2hlkpqe7</a><br/>\n",
              "                "
            ],
            "text/plain": [
              "<IPython.core.display.HTML object>"
            ]
          },
          "metadata": {
            "tags": []
          }
        },
        {
          "output_type": "display_data",
          "data": {
            "text/html": [
              "\n",
              "                Tracking run with wandb version 0.10.4<br/>\n",
              "                Syncing run <strong style=\"color:#cdcd00\">SGD-64-0.001</strong> to <a href=\"https://wandb.ai\" target=\"_blank\">Weights & Biases</a> <a href=\"https://docs.wandb.com/integrations/jupyter.html\" target=\"_blank\">(Documentation)</a>.<br/>\n",
              "                Project page: <a href=\"https://wandb.ai/sheikmohdimran/pytorchlightning\" target=\"_blank\">https://wandb.ai/sheikmohdimran/pytorchlightning</a><br/>\n",
              "                Run page: <a href=\"https://wandb.ai/sheikmohdimran/pytorchlightning/runs/qvzbdpxa\" target=\"_blank\">https://wandb.ai/sheikmohdimran/pytorchlightning/runs/qvzbdpxa</a><br/>\n",
              "                Run data is saved locally in <code>wandb/run-20201005_151050-qvzbdpxa</code><br/><br/>\n",
              "            "
            ],
            "text/plain": [
              "<IPython.core.display.HTML object>"
            ]
          },
          "metadata": {
            "tags": []
          }
        },
        {
          "output_type": "stream",
          "text": [
            "\n",
            "  | Name  | Type       | Params\n",
            "-------------------------------------\n",
            "0 | loss  | BCELoss    | 0     \n",
            "1 | model | Sequential | 121   \n",
            "Saving latest checkpoint..\n"
          ],
          "name": "stderr"
        },
        {
          "output_type": "execute_result",
          "data": {
            "text/plain": [
              "1"
            ]
          },
          "metadata": {
            "tags": []
          },
          "execution_count": 24
        }
      ]
    },
    {
      "cell_type": "markdown",
      "metadata": {
        "id": "YDj0gtn9SmYJ"
      },
      "source": [
        "### Optimize the model\n",
        "Some important parameters to look out for while optimizing neural networks are:\n",
        "\n",
        "-Type of architecture\n",
        "\n",
        "-Number of Layers\n",
        "\n",
        "-Number of Neurons in a layer\n",
        "\n",
        "-Regularization parameters\n",
        "\n",
        "-Learning Rate\n",
        "\n",
        "-Type of optimization / backpropagation technique to use\n",
        "\n",
        "-Dropout rate\n",
        "\n",
        "-Weight sharing"
      ]
    },
    {
      "cell_type": "markdown",
      "metadata": {
        "id": "dmR1OaOQSvGa"
      },
      "source": [
        "#### Number of Layers:\n",
        "We will keep it similar to the above model so that we can compare the accuracy.\n",
        "1 hidden layer.\n",
        "\n",
        "#### Activation:\n",
        "input layer: relu becasue we are in an input layer. uses the ReLu activation function for  ϕ\n",
        "\n",
        "output layer: sigmoid becasue we are in an output layer. uses the Sigmoid activation function for  ϕ . This is used instead of the ReLu function becasue it generates probabilities for the outcome. We want the probability that each customer leaves the bank.\n",
        "\n",
        "#### Type of optimization / backpropagation technique to use: \n",
        "We will use Adam. Adam is a very efficient variation of Stochastic Gradient Descent. For Adam and its variant, learning rate or the decay rate does not really matter too much.\n",
        "\n",
        "#### Learning Rate:\n",
        "default learning rate 0.001.\n",
        "\n",
        "#### Number of Neurons in a layer:\n",
        "We will keep it 6 as per our initial calculation above.\n",
        "\n",
        "#### Weight sharing / kernel_initializer: \n",
        "Normal distribution with which we randomly initialize weights for the nodes in this layer.\n",
        "\n",
        "#### Loss:\n",
        "loss: binary_crossentropy This is the loss function used within adam. This should be the logarthmic loss. If our dependent (output variable) is Binary, it is binary_crossentropy. If Categorical, then it is called categorical_crossentropy\n",
        "\n",
        "### Rebuilding the model using these optimised parameters"
      ]
    },
    {
      "cell_type": "code",
      "metadata": {
        "id": "Tr3HUKTJOiqS",
        "colab": {
          "base_uri": "https://localhost:8080/",
          "height": 942,
          "referenced_widgets": [
            "e433b0daf809475ca23c5dd4cb878db7",
            "765aa6770de54537b5cc124cfb5022a9",
            "4a0112e98350403eb53a61936222705f",
            "f943c6d9c86d44f88e900161868980a9",
            "3a8112d591a548bda4351efdb35e4f53",
            "03806ad3c3cc4256980bc694beaa049b",
            "4c9d8c7bc04240f2b161a5e2dccc7b67",
            "23bcbc0b8113485d8ad28e950cd472cc"
          ]
        },
        "outputId": "5e56c0fb-0b78-45e9-d686-4be2f49e57c6"
      },
      "source": [
        "wandb_logger = WandbLogger(name='Adam-64-0.001',project='pytorchlightning')\n",
        "model = LitMNIST(optim=torch.optim.Adam, loss=nn.MSELoss(), lr=1e-3)\n",
        "trainer = pl.Trainer(max_epochs=100, progress_bar_refresh_rate=0, gpus=1, logger= wandb_logger)\n",
        "trainer.fit(model,train_loader,val_loader)"
      ],
      "execution_count": null,
      "outputs": [
        {
          "output_type": "stream",
          "text": [
            "GPU available: True, used: True\n",
            "TPU available: False, using: 0 TPU cores\n",
            "CUDA_VISIBLE_DEVICES: [0]\n",
            "\u001b[34m\u001b[1mwandb\u001b[0m: \u001b[33mWARNING\u001b[0m Calling wandb.login() after wandb.init() has no effect.\n"
          ],
          "name": "stderr"
        },
        {
          "output_type": "display_data",
          "data": {
            "text/html": [
              "<br/>Waiting for W&B process to finish, PID 769<br/>Program ended successfully."
            ],
            "text/plain": [
              "<IPython.core.display.HTML object>"
            ]
          },
          "metadata": {
            "tags": []
          }
        },
        {
          "output_type": "display_data",
          "data": {
            "application/vnd.jupyter.widget-view+json": {
              "model_id": "e433b0daf809475ca23c5dd4cb878db7",
              "version_minor": 0,
              "version_major": 2
            },
            "text/plain": [
              "VBox(children=(Label(value=' 0.00MB of 0.00MB uploaded (0.00MB deduped)\\r'), FloatProgress(value=1.0, max=1.0)…"
            ]
          },
          "metadata": {
            "tags": []
          }
        },
        {
          "output_type": "display_data",
          "data": {
            "text/html": [
              "Find user logs for this run at: <code>wandb/run-20201005_151050-qvzbdpxa/logs/debug.log</code>"
            ],
            "text/plain": [
              "<IPython.core.display.HTML object>"
            ]
          },
          "metadata": {
            "tags": []
          }
        },
        {
          "output_type": "display_data",
          "data": {
            "text/html": [
              "Find internal logs for this run at: <code>wandb/run-20201005_151050-qvzbdpxa/logs/debug-internal.log</code>"
            ],
            "text/plain": [
              "<IPython.core.display.HTML object>"
            ]
          },
          "metadata": {
            "tags": []
          }
        },
        {
          "output_type": "display_data",
          "data": {
            "text/html": [
              "<h3>Run summary:</h3><br/><style>\n",
              "    table.wandb td:nth-child(1) { padding: 0 10px; text-align: right }\n",
              "    </style><table class=\"wandb\">\n",
              "<tr><td>global_step</td><td>12499</td></tr><tr><td>train_loss</td><td>0.48366</td></tr><tr><td>epoch</td><td>99</td></tr><tr><td>_step</td><td>299</td></tr><tr><td>_runtime</td><td>46</td></tr><tr><td>_timestamp</td><td>1601910699</td></tr><tr><td>val_loss</td><td>0.50641</td></tr><tr><td>val_acc</td><td>0.796</td></tr></table>"
            ],
            "text/plain": [
              "<IPython.core.display.HTML object>"
            ]
          },
          "metadata": {
            "tags": []
          }
        },
        {
          "output_type": "display_data",
          "data": {
            "text/html": [
              "<h3>Run history:</h3><br/><style>\n",
              "    table.wandb td:nth-child(1) { padding: 0 10px; text-align: right }\n",
              "    </style><table class=\"wandb\">\n",
              "<tr><td>global_step</td><td>▁▁▁▁▂▂▂▂▂▃▃▃▃▃▃▄▄▄▄▄▅▅▅▅▅▅▆▆▆▆▆▆▇▇▇▇▇███</td></tr><tr><td>train_loss</td><td>█▆▄▄▃▂▂▂▂▂▁▁▁▁▁▁▁▁▁▁▁▁▁▁▁▁▁▁▁▁▁▁▁▁▁▁▁▁▁▁</td></tr><tr><td>epoch</td><td>▁▁▁▁▂▂▂▂▂▃▃▃▃▃▃▄▄▄▄▄▅▅▅▅▅▅▆▆▆▆▆▇▇▇▇▇▇███</td></tr><tr><td>_step</td><td>▁▁▁▁▂▂▂▂▂▃▃▃▃▃▃▄▄▄▄▄▅▅▅▅▅▅▆▆▆▆▆▆▇▇▇▇▇███</td></tr><tr><td>_runtime</td><td>▁▁▁▁▂▂▂▂▂▃▃▃▃▃▄▄▄▄▄▅▅▅▅▅▅▅▆▆▆▆▆▇▇▇▇▇▇███</td></tr><tr><td>_timestamp</td><td>▁▁▁▁▂▂▂▂▂▃▃▃▃▃▄▄▄▄▄▅▅▅▅▅▅▅▆▆▆▆▆▇▇▇▇▇▇███</td></tr><tr><td>val_loss</td><td>█▆▄▃▃▂▂▂▁▁▁▁▁▁▁▁▁▁▁▁▁▁▁▁▁▁▁▁▁▁▁▁▁▁▁▁▁▁▁▁</td></tr><tr><td>val_acc</td><td>▁▁▁▁▁▁▁▁▁▁▁▁▁▁▁▁▁▁▁▁▁▁▁▁▁▁▁▁▁▁▁▁▁▁▁▁▁▁▁▁</td></tr></table><br/>"
            ],
            "text/plain": [
              "<IPython.core.display.HTML object>"
            ]
          },
          "metadata": {
            "tags": []
          }
        },
        {
          "output_type": "display_data",
          "data": {
            "text/html": [
              "Synced 5 W&B file(s), 0 media file(s), 0 artifact file(s) and 0 other file(s)"
            ],
            "text/plain": [
              "<IPython.core.display.HTML object>"
            ]
          },
          "metadata": {
            "tags": []
          }
        },
        {
          "output_type": "display_data",
          "data": {
            "text/html": [
              "\n",
              "                    <br/>Synced <strong style=\"color:#cdcd00\">SGD-64-0.001</strong>: <a href=\"https://wandb.ai/sheikmohdimran/pytorchlightning/runs/qvzbdpxa\" target=\"_blank\">https://wandb.ai/sheikmohdimran/pytorchlightning/runs/qvzbdpxa</a><br/>\n",
              "                "
            ],
            "text/plain": [
              "<IPython.core.display.HTML object>"
            ]
          },
          "metadata": {
            "tags": []
          }
        },
        {
          "output_type": "display_data",
          "data": {
            "text/html": [
              "\n",
              "                Tracking run with wandb version 0.10.4<br/>\n",
              "                Syncing run <strong style=\"color:#cdcd00\">Adam-64-0.001</strong> to <a href=\"https://wandb.ai\" target=\"_blank\">Weights & Biases</a> <a href=\"https://docs.wandb.com/integrations/jupyter.html\" target=\"_blank\">(Documentation)</a>.<br/>\n",
              "                Project page: <a href=\"https://wandb.ai/sheikmohdimran/pytorchlightning\" target=\"_blank\">https://wandb.ai/sheikmohdimran/pytorchlightning</a><br/>\n",
              "                Run page: <a href=\"https://wandb.ai/sheikmohdimran/pytorchlightning/runs/2dkk75ix\" target=\"_blank\">https://wandb.ai/sheikmohdimran/pytorchlightning/runs/2dkk75ix</a><br/>\n",
              "                Run data is saved locally in <code>wandb/run-20201005_151148-2dkk75ix</code><br/><br/>\n",
              "            "
            ],
            "text/plain": [
              "<IPython.core.display.HTML object>"
            ]
          },
          "metadata": {
            "tags": []
          }
        },
        {
          "output_type": "stream",
          "text": [
            "\n",
            "  | Name  | Type       | Params\n",
            "-------------------------------------\n",
            "0 | loss  | MSELoss    | 0     \n",
            "1 | model | Sequential | 121   \n",
            "Saving latest checkpoint..\n"
          ],
          "name": "stderr"
        },
        {
          "output_type": "execute_result",
          "data": {
            "text/plain": [
              "1"
            ]
          },
          "metadata": {
            "tags": []
          },
          "execution_count": 25
        }
      ]
    },
    {
      "cell_type": "code",
      "metadata": {
        "id": "rHnBy54FU_Lr",
        "colab": {
          "base_uri": "https://localhost:8080/",
          "height": 55
        },
        "outputId": "d832ba09-ed18-40e8-fc0e-e848a6cb65b1"
      },
      "source": [
        "import base64\n",
        "encoded = base64.b64encode(open(\"wandb.png\", \"rb\").read())\n",
        "encoded"
      ],
      "execution_count": null,
      "outputs": [
        {
          "output_type": "execute_result",
          "data": {
            "text/plain": [
              "b'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'"
            ]
          },
          "metadata": {
            "tags": []
          },
          "execution_count": 26
        }
      ]
    },
    {
      "cell_type": "markdown",
      "metadata": {
        "id": "HtOrsk1PSJys"
      },
      "source": [
        "### Sample output from Weights & Biases"
      ]
    },
    {
      "cell_type": "markdown",
      "metadata": {
        "id": "0t3VKPqcR8d9"
      },
      "source": [
        "![image.png](data:image/png;base64,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)"
      ]
    },
    {
      "cell_type": "markdown",
      "metadata": {
        "id": "vK42L4qCAIgB"
      },
      "source": [
        "## Inference"
      ]
    },
    {
      "cell_type": "code",
      "metadata": {
        "id": "CJc2X3E9N4Ab",
        "colab": {
          "base_uri": "https://localhost:8080/",
          "height": 144
        },
        "outputId": "a0db553b-bacb-4f41-8eea-376bc21dcc04"
      },
      "source": [
        "!find . -name \"*.ckpt\""
      ],
      "execution_count": null,
      "outputs": [
        {
          "output_type": "stream",
          "text": [
            "./pytorchlightning/2hlkpqe7/checkpoints/epoch=99.ckpt\n",
            "./pytorchlightning/1pb9c1om/checkpoints/epoch=99.ckpt\n",
            "./pytorchlightning/qvzbdpxa/checkpoints/epoch=99.ckpt\n",
            "./pytorchlightning/2dkk75ix/checkpoints/epoch=99.ckpt\n",
            "./pytorchlightning/2v88qji2/checkpoints/epoch=99.ckpt\n",
            "./pytorchlightning/2w3co7zd/checkpoints/epoch=92.ckpt\n",
            "./pytorchlightning/6a0g0wae/checkpoints/epoch=99.ckpt\n"
          ],
          "name": "stdout"
        }
      ]
    },
    {
      "cell_type": "code",
      "metadata": {
        "id": "ccDlwSi-0tgh"
      },
      "source": [
        "model = LitMNIST.load_from_checkpoint('./pytorchlightning/6a0g0wae/checkpoints/epoch=99.ckpt')\n",
        "device = torch.device(\"cuda:0\")"
      ],
      "execution_count": null,
      "outputs": []
    },
    {
      "cell_type": "code",
      "metadata": {
        "id": "JDjNPXIZpw4b"
      },
      "source": [
        "def predict(model, dataloader, n_class, device):\n",
        "    model.eval()\n",
        "    model.to(device)\n",
        "    preds = np.zeros([0, n_class])\n",
        "    for data, _ in dataloader:\n",
        "        data = data.to(device)\n",
        "        with torch.no_grad():\n",
        "            y_pred = model(data).detach()\n",
        "        y_pred = y_pred.cpu().numpy()\n",
        "        preds = np.concatenate([preds, y_pred])\n",
        "    return preds"
      ],
      "execution_count": null,
      "outputs": []
    },
    {
      "cell_type": "code",
      "metadata": {
        "id": "I5O_72NfA-oG",
        "colab": {
          "base_uri": "https://localhost:8080/",
          "height": 35
        },
        "outputId": "80a91dfc-c8c4-40ce-8023-4f4be70790b0"
      },
      "source": [
        "val_preds = predict(model, val_loader, n_class=1, device=device)\n",
        "preds=(val_preds>0.5).astype(float)\n",
        "val_acc = accuracy_score(y_train, preds)\n",
        "print(f'val acc: {val_acc}')"
      ],
      "execution_count": null,
      "outputs": [
        {
          "output_type": "stream",
          "text": [
            "val acc: 0.8655\n"
          ],
          "name": "stdout"
        }
      ]
    },
    {
      "cell_type": "code",
      "metadata": {
        "id": "1r5CEOTLVYHs"
      },
      "source": [
        ""
      ],
      "execution_count": null,
      "outputs": []
    }
  ]
}